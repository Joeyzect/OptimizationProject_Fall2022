{
 "cells": [
  {
   "cell_type": "markdown",
   "id": "968d9a03",
   "metadata": {},
   "source": [
    "My friends,\\\n",
    "It is\\\n",
    "Time to code"
   ]
  },
  {
   "cell_type": "code",
   "execution_count": 1,
   "id": "9820cc9a",
   "metadata": {},
   "outputs": [],
   "source": [
    "import numpy as np\n",
    "import pandas as pd\n",
    "import matplotlib.pyplot as plt\n",
    "import seaborn as sns"
   ]
  },
  {
   "cell_type": "code",
   "execution_count": 3,
   "id": "0cce371f",
   "metadata": {},
   "outputs": [],
   "source": [
    "# original speed dating dataframe\n",
    "df = pd.read_csv(\"SpeedDatingData.csv\",encoding = \"ISO-8859-1\"); "
   ]
  },
  {
   "cell_type": "markdown",
   "id": "db762c39",
   "metadata": {},
   "source": [
    "## Goal: create a dataframe indexed by unique people"
   ]
  },
  {
   "cell_type": "code",
   "execution_count": 11,
   "id": "25c6ea1b",
   "metadata": {},
   "outputs": [],
   "source": [
    "## I needed gender so I simplified here as well.\n",
    "people = df.groupby('iid')[['gender', 'imprelig']].first()\n",
    "people['imprelig'] = (people['imprelig'].fillna(0) >= 6).astype(int)\n"
   ]
  },
  {
   "cell_type": "code",
   "execution_count": 4,
   "id": "f7a565e6",
   "metadata": {},
   "outputs": [],
   "source": [
    "# initializing people df\n",
    "# people = pd.DataFrame(df[\"iid\"].unique())\n",
    "# people = people.rename(columns={0:\"iid\"})"
   ]
  },
  {
   "cell_type": "markdown",
   "id": "3f0951b4",
   "metadata": {},
   "source": [
    "### Variable: importance of religion to people (binary)"
   ]
  },
  {
   "cell_type": "code",
   "execution_count": 5,
   "id": "86f2b627",
   "metadata": {},
   "outputs": [],
   "source": [
    "# obtaining importance of religion from speed dating df\n",
    "# NOTE: we replace na values with zero because someone's failure to note the importance of \n",
    "#       religion to them in dating suggests religion is not important to them to beign with\n",
    "#imp_relig_iids = np.array(df[[\"iid\",\"imprelig\"]].fillna(0).groupby(\"iid\").mean()[\"imprelig\"])"
   ]
  },
  {
   "cell_type": "code",
   "execution_count": 6,
   "id": "cdd41ef7",
   "metadata": {},
   "outputs": [],
   "source": [
    "#people[\"imprelig\"] = imp_relig_iids\n",
    "# making imprelig a binary variable: religion is important to this person if imprelig >= 6\n",
    "#people[\"imprelig\"] = np.array(people[\"imprelig\"] >= 6).astype(int)"
   ]
  },
  {
   "cell_type": "markdown",
   "id": "3eecf6bb",
   "metadata": {},
   "source": [
    "### Variable: religion of each person (one hot encoded)"
   ]
  },
  {
   "cell_type": "markdown",
   "id": "6a8dc3e6",
   "metadata": {},
   "source": [
    "Synthesizing religion data for each person based on religion distributions from U.S. demographic data"
   ]
  },
  {
   "cell_type": "code",
   "execution_count": 13,
   "id": "9ba62d44",
   "metadata": {},
   "outputs": [],
   "source": [
    "np.random.seed(42) \n",
    "religions = np.random.choice(\n",
    "    a=[\"protestant\",\"catholic\",\"mormon\",\"unaffiliated\",\"atheist\",\n",
    "        \"agnostic\",\"jewish\",\"muslim\",\"hindu\",\"buddhist\"],\n",
    "    size=551,\n",
    "    # religious preference distribution obtained from wikipedia\n",
    "    p=[0.42,0.21,0.02,0.18,0.06,0.07,0.01,0.01,0.01,0.01]  \n",
    ")"
   ]
  },
  {
   "cell_type": "code",
   "execution_count": 14,
   "id": "f44053ad",
   "metadata": {},
   "outputs": [],
   "source": [
    "people[\"religion\"] = religions"
   ]
  },
  {
   "cell_type": "markdown",
   "id": "b037c26d",
   "metadata": {},
   "source": [
    "One hot encoding"
   ]
  },
  {
   "cell_type": "code",
   "execution_count": 15,
   "id": "122dda38",
   "metadata": {},
   "outputs": [],
   "source": [
    "people_r = pd.get_dummies(people.religion)\n",
    "people = pd.concat([people, people_r], axis= 1)\n",
    "people = people.drop('religion', axis=1);"
   ]
  },
  {
   "cell_type": "code",
   "execution_count": 16,
   "id": "6e405a4d",
   "metadata": {},
   "outputs": [
    {
     "data": {
      "text/html": [
       "<div>\n",
       "<style scoped>\n",
       "    .dataframe tbody tr th:only-of-type {\n",
       "        vertical-align: middle;\n",
       "    }\n",
       "\n",
       "    .dataframe tbody tr th {\n",
       "        vertical-align: top;\n",
       "    }\n",
       "\n",
       "    .dataframe thead th {\n",
       "        text-align: right;\n",
       "    }\n",
       "</style>\n",
       "<table border=\"1\" class=\"dataframe\">\n",
       "  <thead>\n",
       "    <tr style=\"text-align: right;\">\n",
       "      <th></th>\n",
       "      <th>gender</th>\n",
       "      <th>imprelig</th>\n",
       "      <th>agnostic</th>\n",
       "      <th>atheist</th>\n",
       "      <th>buddhist</th>\n",
       "      <th>catholic</th>\n",
       "      <th>hindu</th>\n",
       "      <th>jewish</th>\n",
       "      <th>mormon</th>\n",
       "      <th>muslim</th>\n",
       "      <th>protestant</th>\n",
       "      <th>unaffiliated</th>\n",
       "    </tr>\n",
       "    <tr>\n",
       "      <th>iid</th>\n",
       "      <th></th>\n",
       "      <th></th>\n",
       "      <th></th>\n",
       "      <th></th>\n",
       "      <th></th>\n",
       "      <th></th>\n",
       "      <th></th>\n",
       "      <th></th>\n",
       "      <th></th>\n",
       "      <th></th>\n",
       "      <th></th>\n",
       "      <th></th>\n",
       "    </tr>\n",
       "  </thead>\n",
       "  <tbody>\n",
       "    <tr>\n",
       "      <th>1</th>\n",
       "      <td>0</td>\n",
       "      <td>0</td>\n",
       "      <td>0</td>\n",
       "      <td>0</td>\n",
       "      <td>0</td>\n",
       "      <td>0</td>\n",
       "      <td>0</td>\n",
       "      <td>0</td>\n",
       "      <td>0</td>\n",
       "      <td>0</td>\n",
       "      <td>1</td>\n",
       "      <td>0</td>\n",
       "    </tr>\n",
       "    <tr>\n",
       "      <th>2</th>\n",
       "      <td>0</td>\n",
       "      <td>0</td>\n",
       "      <td>1</td>\n",
       "      <td>0</td>\n",
       "      <td>0</td>\n",
       "      <td>0</td>\n",
       "      <td>0</td>\n",
       "      <td>0</td>\n",
       "      <td>0</td>\n",
       "      <td>0</td>\n",
       "      <td>0</td>\n",
       "      <td>0</td>\n",
       "    </tr>\n",
       "    <tr>\n",
       "      <th>3</th>\n",
       "      <td>0</td>\n",
       "      <td>0</td>\n",
       "      <td>0</td>\n",
       "      <td>0</td>\n",
       "      <td>0</td>\n",
       "      <td>0</td>\n",
       "      <td>0</td>\n",
       "      <td>0</td>\n",
       "      <td>0</td>\n",
       "      <td>0</td>\n",
       "      <td>0</td>\n",
       "      <td>1</td>\n",
       "    </tr>\n",
       "    <tr>\n",
       "      <th>4</th>\n",
       "      <td>0</td>\n",
       "      <td>0</td>\n",
       "      <td>0</td>\n",
       "      <td>0</td>\n",
       "      <td>0</td>\n",
       "      <td>1</td>\n",
       "      <td>0</td>\n",
       "      <td>0</td>\n",
       "      <td>0</td>\n",
       "      <td>0</td>\n",
       "      <td>0</td>\n",
       "      <td>0</td>\n",
       "    </tr>\n",
       "    <tr>\n",
       "      <th>5</th>\n",
       "      <td>0</td>\n",
       "      <td>0</td>\n",
       "      <td>0</td>\n",
       "      <td>0</td>\n",
       "      <td>0</td>\n",
       "      <td>0</td>\n",
       "      <td>0</td>\n",
       "      <td>0</td>\n",
       "      <td>0</td>\n",
       "      <td>0</td>\n",
       "      <td>1</td>\n",
       "      <td>0</td>\n",
       "    </tr>\n",
       "  </tbody>\n",
       "</table>\n",
       "</div>"
      ],
      "text/plain": [
       "     gender  imprelig  agnostic  atheist  buddhist  catholic  hindu  jewish  \\\n",
       "iid                                                                           \n",
       "1         0         0         0        0         0         0      0       0   \n",
       "2         0         0         1        0         0         0      0       0   \n",
       "3         0         0         0        0         0         0      0       0   \n",
       "4         0         0         0        0         0         1      0       0   \n",
       "5         0         0         0        0         0         0      0       0   \n",
       "\n",
       "     mormon  muslim  protestant  unaffiliated  \n",
       "iid                                            \n",
       "1         0       0           1             0  \n",
       "2         0       0           0             0  \n",
       "3         0       0           0             1  \n",
       "4         0       0           0             0  \n",
       "5         0       0           1             0  "
      ]
     },
     "execution_count": 16,
     "metadata": {},
     "output_type": "execute_result"
    }
   ],
   "source": [
    "people.head()"
   ]
  },
  {
   "cell_type": "code",
   "execution_count": 17,
   "id": "fa0ff111",
   "metadata": {},
   "outputs": [],
   "source": [
    "# exporting df to csv\n",
    "people.to_csv(\"people.csv\")"
   ]
  },
  {
   "cell_type": "code",
   "execution_count": null,
   "id": "81cba71e",
   "metadata": {},
   "outputs": [],
   "source": []
  }
 ],
 "metadata": {
  "kernelspec": {
   "display_name": "Python 3.9.13 ('base')",
   "language": "python",
   "name": "python3"
  },
  "language_info": {
   "codemirror_mode": {
    "name": "ipython",
    "version": 3
   },
   "file_extension": ".py",
   "mimetype": "text/x-python",
   "name": "python",
   "nbconvert_exporter": "python",
   "pygments_lexer": "ipython3",
   "version": "3.9.13"
  },
  "toc": {
   "base_numbering": 1,
   "nav_menu": {},
   "number_sections": true,
   "sideBar": true,
   "skip_h1_title": false,
   "title_cell": "Table of Contents",
   "title_sidebar": "Contents",
   "toc_cell": false,
   "toc_position": {},
   "toc_section_display": true,
   "toc_window_display": false
  },
  "vscode": {
   "interpreter": {
    "hash": "19d1d53a962d236aa061289c2ac16dc8e6d9648c89fe79f459ae9a3493bc67b4"
   }
  }
 },
 "nbformat": 4,
 "nbformat_minor": 5
}

{
 "cells": [
  {
   "cell_type": "code",
   "execution_count": 1,
   "metadata": {},
   "outputs": [],
   "source": [
    "import gurobipy"
   ]
  },
  {
   "cell_type": "code",
   "execution_count": 2,
   "metadata": {},
   "outputs": [
    {
     "name": "stdout",
     "output_type": "stream",
     "text": [
      "Set parameter Username\n",
      "Academic license - for non-commercial use only - expires 2023-09-11\n",
      "Read MPS format model from file model.mps\n",
      "Reading time = 0.00 seconds\n",
      ": 250 rows, 800 columns, 1180 nonzeros\n"
     ]
    }
   ],
   "source": [
    "m = gurobipy.read(\"model.mps\")"
   ]
  },
  {
   "cell_type": "code",
   "execution_count": 9,
   "metadata": {},
   "outputs": [
    {
     "name": "stdout",
     "output_type": "stream",
     "text": [
      "Presolve removed 233 rows and 751 columns\n",
      "Presolve time: 0.00s\n"
     ]
    }
   ],
   "source": [
    "m.presolve().write(\"model.lp\")"
   ]
  }
 ],
 "metadata": {
  "kernelspec": {
   "display_name": "Python 3.9.13 ('edge_project')",
   "language": "python",
   "name": "python3"
  },
  "language_info": {
   "codemirror_mode": {
    "name": "ipython",
    "version": 3
   },
   "file_extension": ".py",
   "mimetype": "text/x-python",
   "name": "python",
   "nbconvert_exporter": "python",
   "pygments_lexer": "ipython3",
   "version": "3.9.13"
  },
  "orig_nbformat": 4,
  "vscode": {
   "interpreter": {
    "hash": "86682233f7b56903dcb9f2369d8a4a57a4b6bc18e1108abd6c6b479e15e5bb3a"
   }
  }
 },
 "nbformat": 4,
 "nbformat_minor": 2
}

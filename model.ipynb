{
 "cells": [
  {
   "cell_type": "code",
   "execution_count": 78,
   "metadata": {},
   "outputs": [],
   "source": [
    "using DataFrames, CSV\n",
    "using JuMP, Gurobi\n",
    "using LinearAlgebra, Random, Printf, CategoricalArrays\n",
    "using Plots\n",
    "using Distributions"
   ]
  },
  {
   "cell_type": "code",
   "execution_count": 3,
   "metadata": {},
   "outputs": [
    {
     "name": "stdout",
     "output_type": "stream",
     "text": [
      "Set parameter Username\n",
      "Academic license - for non-commercial use only - expires 2023-09-11\n"
     ]
    }
   ],
   "source": [
    "const GRB_ENV = Gurobi.Env();"
   ]
  },
  {
   "cell_type": "code",
   "execution_count": 58,
   "metadata": {},
   "outputs": [],
   "source": [
    "preferences_0 = CSV.read(\"preferences_0.csv\", DataFrame);\n",
    "preferences_1 = CSV.read(\"preferences_1.csv\", DataFrame);\n",
    "\n",
    "preferences_0 = Matrix(preferences_0)[:,2:end];\n",
    "preferences_1 = Matrix(preferences_1)[:,2:end];"
   ]
  },
  {
   "cell_type": "code",
   "execution_count": 68,
   "metadata": {},
   "outputs": [
    {
     "data": {
      "text/plain": [
       "20×1 Matrix{Float64}:\n",
       " -1.0685393044061506\n",
       " -0.1532859072887971\n",
       " -3.9008022366268795\n",
       " -0.6241368115347704\n",
       " -1.337433667270756\n",
       " -1.5557060669263114\n",
       " -2.4567215591712874\n",
       "  1.386467145515355\n",
       " -2.7011399255904704\n",
       " -0.7246647545747233\n",
       "  1.1623497245694752\n",
       " -1.0636558173477226\n",
       " -0.8183852893007684\n",
       "  0.14149256001153043\n",
       " -1.310275464475294\n",
       "  0.8768466308140181\n",
       " -3.659563983306513\n",
       " -0.5835099723665889\n",
       " -2.57101173238393\n",
       " -0.7933110694996919"
      ]
     },
     "execution_count": 68,
     "metadata": {},
     "output_type": "execute_result"
    }
   ],
   "source": [
    "ones(1,20)' .* preferences_0[1,:] + preferences_1'[1,:]"
   ]
  },
  {
   "cell_type": "code",
   "execution_count": null,
   "metadata": {},
   "outputs": [],
   "source": [
    "m1 = Model(() -> Gurobi.Optimizer(GRB_ENV))\n",
    "\n",
    "# Create variables\n",
    "@variable(m1, z[1:size(preferences_0), 1:20], Bin)\n",
    "\n",
    "sum(x[:, j])\n",
    "\n",
    "@objective(m1, Min, sum(-x[i,j] * (preferences_0[i,j] + preferences_1[i,j]) for i in 1:20, j in 1:20))\n",
    "\n",
    "@constraint(m1, [i=1:20], sum(x[i, :]) == 1)"
   ]
  },
  {
   "cell_type": "code",
   "execution_count": 75,
   "metadata": {},
   "outputs": [
    {
     "data": {
      "text/plain": [
       "20×1 Matrix{Float64}:\n",
       " -1.0685393044061506\n",
       " -0.1532859072887971\n",
       " -3.9008022366268795\n",
       " -0.6241368115347704\n",
       " -1.337433667270756\n",
       " -1.5557060669263114\n",
       " -2.4567215591712874\n",
       "  1.386467145515355\n",
       " -2.7011399255904704\n",
       " -0.7246647545747233\n",
       "  1.1623497245694752\n",
       " -1.0636558173477226\n",
       " -0.8183852893007684\n",
       "  0.14149256001153043\n",
       " -1.310275464475294\n",
       "  0.8768466308140181\n",
       " -3.659563983306513\n",
       " -0.5835099723665889\n",
       " -2.57101173238393\n",
       " -0.7933110694996919"
      ]
     },
     "execution_count": 75,
     "metadata": {},
     "output_type": "execute_result"
    }
   ],
   "source": [
    "ones(1,20)' .* preferences_0[1,:] + preferences_1'[1,:]"
   ]
  },
  {
   "cell_type": "code",
   "execution_count": 77,
   "metadata": {},
   "outputs": [
    {
     "name": "stdout",
     "output_type": "stream",
     "text": [
      "Gurobi Optimizer version 9.5.2 build v9.5.2rc0 (win64)\n",
      "Thread count: 4 physical cores, 8 logical processors, using up to 8 threads\n",
      "Optimize a model with 80 rows, 440 columns and 1640 nonzeros\n",
      "Model fingerprint: 0x00792b20\n",
      "Variable types: 0 continuous, 440 integer (440 binary)\n",
      "Coefficient statistics:\n",
      "  Matrix range     [1e+00, 1e+00]\n",
      "  Objective range  [2e-03, 4e+00]\n",
      "  Bounds range     [0e+00, 0e+00]\n",
      "  RHS range        [1e+00, 1e+00]\n",
      "Found heuristic solution: objective -20.4384452\n",
      "Presolve removed 0 rows and 92 columns\n",
      "Presolve time: 0.00s\n",
      "Presolved: 80 rows, 348 columns, 1272 nonzeros\n",
      "Variable types: 0 continuous, 348 integer (348 binary)\n",
      "\n",
      "Root relaxation: objective -4.347703e+01, 28 iterations, 0.00 seconds (0.00 work units)\n",
      "\n",
      "    Nodes    |    Current Node    |     Objective Bounds      |     Work\n",
      " Expl Unexpl |  Obj  Depth IntInf | Incumbent    BestBd   Gap | It/Node Time\n",
      "\n",
      "*    0     0               0     -43.4770278  -43.47703  0.00%     -    0s\n",
      "\n",
      "Explored 1 nodes (28 simplex iterations) in 0.01 seconds (0.00 work units)\n",
      "Thread count was 8 (of 8 available processors)\n",
      "\n",
      "Solution count 2: -43.477 -20.4384 \n",
      "No other solutions better than -43.477\n",
      "\n",
      "Optimal solution found (tolerance 1.00e-04)\n",
      "Best objective -4.347702775607e+01, best bound -4.347702775607e+01, gap 0.0000%\n",
      "\n",
      "User-callback calls 213, time in user-callback 0.00 sec\n"
     ]
    }
   ],
   "source": [
    "rho = 0.5;\n",
    "# Create a new model\n",
    "\n",
    "m = Model(() -> Gurobi.Optimizer(GRB_ENV))\n",
    "\n",
    "# Create variables\n",
    "\n",
    "#zij = 1 if i and j are matched, 0 otherwise\n",
    "@variable(m, z[1:size(preferences_0,1), 1:size(preferences_1,1)], Bin)\n",
    "@variable(m, ui[1:size(preferences_0,1)], Bin)\n",
    "@variable(m, uj[1:size(preferences_1,1)], Bin)\n",
    "\n",
    "# Counting variable for unmatched students\n",
    "\n",
    "#t represents max of mi and mj\n",
    "#@variable(m, t[1:size(preferences_0,1), 1:size(preferences_1,1)], Bin)\n",
    "\n",
    "# Create objective\n",
    "\n",
    "@objective(m, Min, -1*sum(z[i,:]'*(preferences_0[i,:] + preferences_1'[i,:]) for i in 1:size(preferences_0,1)) + rho*(sum(ui) + sum(uj)))\n",
    "\n",
    "# Create constraints\n",
    "\n",
    "# Each person can only be matched to one person \n",
    "@constraint(m, [i in 1:size(preferences_0,1)], sum(z[i,j] for j in 1:size(preferences_1,1)) <= 1)\n",
    "@constraint(m, [j in 1:size(preferences_1,1)], sum(z[i,j] for i in 1:size(preferences_0,1)) <= 1)\n",
    "\n",
    "# If unmatched define ui and uj\n",
    "@constraint(m, [i in 1:size(preferences_0,1)], ui[i] >= 1 - sum(z[i,j] for j in 1:size(preferences_1,1)))\n",
    "@constraint(m, [j in 1:size(preferences_1,1)], uj[j] >= 1 - sum(z[i,j] for i in 1:size(preferences_0,1)))\n",
    "\n",
    "optimize!(m)"
   ]
  },
  {
   "cell_type": "code",
   "execution_count": 79,
   "metadata": {},
   "outputs": [
    {
     "data": {
      "text/plain": [
       "20×20 Matrix{Float64}:\n",
       "  0.0  -0.0   0.0  -0.0   0.0   0.0  …   0.0  -0.0   0.0  -0.0   0.0  -0.0\n",
       " -0.0   0.0  -0.0  -0.0  -0.0  -0.0     -0.0  -0.0   0.0   1.0   0.0   0.0\n",
       " -0.0  -0.0  -0.0   0.0   0.0   1.0     -0.0   0.0  -0.0  -0.0   0.0  -0.0\n",
       " -0.0  -0.0   0.0  -0.0   0.0  -0.0     -0.0   0.0  -0.0   0.0   1.0   0.0\n",
       "  0.0  -0.0  -0.0   0.0   0.0   0.0      1.0  -0.0  -0.0   0.0   0.0  -0.0\n",
       " -0.0  -0.0   0.0  -0.0  -0.0  -0.0  …   0.0   0.0   0.0  -0.0   0.0  -0.0\n",
       " -0.0  -0.0   0.0  -0.0  -0.0  -0.0      0.0   0.0   0.0  -0.0  -0.0  -0.0\n",
       " -0.0  -0.0   0.0  -0.0   0.0  -0.0     -0.0  -0.0   1.0  -0.0  -0.0  -0.0\n",
       "  1.0  -0.0  -0.0  -0.0  -0.0  -0.0      0.0  -0.0   0.0  -0.0  -0.0  -0.0\n",
       " -0.0  -0.0   0.0  -0.0  -0.0  -0.0     -0.0  -0.0  -0.0  -0.0  -0.0   1.0\n",
       " -0.0  -0.0   1.0  -0.0  -0.0  -0.0  …   0.0  -0.0   0.0  -0.0  -0.0  -0.0\n",
       " -0.0  -0.0   0.0  -0.0  -0.0  -0.0     -0.0  -0.0  -0.0   0.0  -0.0   0.0\n",
       "  0.0  -0.0  -0.0   0.0  -0.0   0.0     -0.0  -0.0  -0.0  -0.0   0.0  -0.0\n",
       " -0.0  -0.0  -0.0  -0.0   1.0   0.0     -0.0  -0.0  -0.0   0.0  -0.0  -0.0\n",
       "  0.0   1.0  -0.0  -0.0  -0.0  -0.0     -0.0   0.0  -0.0  -0.0  -0.0  -0.0\n",
       " -0.0  -0.0  -0.0   0.0   0.0   0.0  …   0.0   0.0   0.0  -0.0  -0.0  -0.0\n",
       " -0.0  -0.0  -0.0   0.0   0.0  -0.0     -0.0   1.0  -0.0   0.0  -0.0  -0.0\n",
       " -0.0  -0.0  -0.0   0.0   0.0  -0.0     -0.0  -0.0   0.0  -0.0  -0.0   0.0\n",
       " -0.0  -0.0  -0.0   1.0   0.0  -0.0     -0.0  -0.0   0.0  -0.0  -0.0  -0.0\n",
       "  0.0  -0.0  -0.0  -0.0   0.0  -0.0     -0.0  -0.0  -0.0  -0.0   0.0  -0.0"
      ]
     },
     "execution_count": 79,
     "metadata": {},
     "output_type": "execute_result"
    }
   ],
   "source": [
    "# Get value of zij\n",
    "\n",
    "zij = value.(z)"
   ]
  },
  {
   "cell_type": "code",
   "execution_count": 89,
   "metadata": {},
   "outputs": [
    {
     "data": {
      "text/plain": [
       "20.0"
      ]
     },
     "execution_count": 89,
     "metadata": {},
     "output_type": "execute_result"
    }
   ],
   "source": [
    "sum((preferences_0 + preferences_1') .* zij)"
   ]
  }
 ],
 "metadata": {
  "kernelspec": {
   "display_name": "Julia 1.8.0",
   "language": "julia",
   "name": "julia-1.8"
  },
  "language_info": {
   "file_extension": ".jl",
   "mimetype": "application/julia",
   "name": "julia",
   "version": "1.8.0"
  },
  "orig_nbformat": 4
 },
 "nbformat": 4,
 "nbformat_minor": 2
}

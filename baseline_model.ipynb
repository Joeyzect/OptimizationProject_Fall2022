{
 "cells": [
  {
   "cell_type": "markdown",
   "id": "ded283ef",
   "metadata": {},
   "source": [
    "# Implementing a Baseline Model"
   ]
  },
  {
   "cell_type": "code",
   "execution_count": 161,
   "id": "d3dca513",
   "metadata": {},
   "outputs": [],
   "source": [
    "import numpy as np\n",
    "import pandas as pd\n",
    "import matplotlib.pyplot as plt\n",
    "import random"
   ]
  },
  {
   "cell_type": "markdown",
   "id": "ecc590fa",
   "metadata": {},
   "source": [
    "Goal: create a baseline date-matching model to compare our optimization approach against"
   ]
  },
  {
   "cell_type": "code",
   "execution_count": 86,
   "id": "ec75ff90",
   "metadata": {},
   "outputs": [],
   "source": [
    "# preferences of gender 0 for individuals of gender 1 (mean-imputed)\n",
    "preferences_0 = pd.read_csv(\"preferences_0.csv\")\n",
    "# preferences of gender 1 for individuals of gender 0 (mean-imputed)\n",
    "preferences_1 = pd.read_csv(\"preferences_1.csv\")"
   ]
  },
  {
   "cell_type": "code",
   "execution_count": 87,
   "id": "bba3b941",
   "metadata": {},
   "outputs": [],
   "source": [
    "# creating arrays of iids for people in each gender\n",
    "iids_gender0 = np.array(preferences_0[\"iid\"])\n",
    "iids_gender1 = np.array(preferences_1[\"iid\"])"
   ]
  },
  {
   "cell_type": "markdown",
   "id": "bb104fe0",
   "metadata": {},
   "source": [
    "Idea: have baseline be random assignment of individuals from opposite genders"
   ]
  },
  {
   "cell_type": "code",
   "execution_count": 107,
   "id": "92419091",
   "metadata": {},
   "outputs": [],
   "source": [
    "def random_match(iids_gender0, iids_gender1, seed):\n",
    "    \"\"\"Inputs:\n",
    "       - iids_gender0: list of iids for gender 0\n",
    "       - iids_gender1: list of iids for gender 1\n",
    "       - seed: random seed for reproducible random results\n",
    "       Outputs:\n",
    "       - nxm df of binary variables.\n",
    "         n = number of iids for gender 0\n",
    "         m = number of iids for gender 1\n",
    "         entry z_ij = 1 if person i is matched with person j, 0 otherwise\n",
    "    \"\"\"\n",
    "    # set seed\n",
    "    np.random.seed(seed)\n",
    "    \n",
    "    # note the gender with more people\n",
    "    gender0_count = len(iids_gender0)\n",
    "    gender1_count = len(iids_gender1)\n",
    "    # make that gender the one we loop over\n",
    "    if gender0_count >= gender1_count:\n",
    "        iids_a = iids_gender0\n",
    "        iids_b = iids_gender1\n",
    "    else:\n",
    "        iids_a = iids_gender1\n",
    "        iids_b = iids_gender0\n",
    "        \n",
    "    # initialize Z matrix\n",
    "    Z = np.zeros((gender0_count, gender1_count))\n",
    "    Z = pd.DataFrame(Z)\n",
    "    Z.index = iids_gender0\n",
    "    Z.columns = iids_gender1.astype(int)\n",
    "    # note the people from the other gender who are available\n",
    "    available = iids_b\n",
    "    # for each person in the looping gender,\n",
    "    for person in iids_a:\n",
    "        # randomly match to someone of the other gender who is available\n",
    "        match = np.random.choice(available)\n",
    "        # make that entry in the Z matrix 1\n",
    "        Z.at[person, match] = 1\n",
    "        # remove that person from the list of available people in the other gender\n",
    "        np.delete(available, np.where(available==match))\n",
    "    # return the binary matrix\n",
    "    return Z"
   ]
  },
  {
   "cell_type": "code",
   "execution_count": 108,
   "id": "f36d99cb",
   "metadata": {},
   "outputs": [],
   "source": [
    "baseline_matches = random_match(iids_gender0, iids_gender1, 42)"
   ]
  },
  {
   "cell_type": "markdown",
   "id": "ed43f2f2",
   "metadata": {},
   "source": [
    "Computing the Objective:"
   ]
  },
  {
   "cell_type": "code",
   "execution_count": 158,
   "id": "81a41a82",
   "metadata": {},
   "outputs": [],
   "source": [
    "def compute_objective(match_df, rho):\n",
    "    \"\"\"Inputs:\n",
    "       - rho: scalar, penalty term for unmatched single\n",
    "       - nxm df of binary variables.\n",
    "         n = number of iids for gender 0\n",
    "         m = number of iids for gender 1\n",
    "         entry z_ij = 1 if person i is matched with person j, 0 otherwise\n",
    "       Outputs:\n",
    "       - objective value of this matching scheme (scalar)\"\"\"\n",
    "    # convert match_df to matrix\n",
    "    Z = match_df.values\n",
    "    # recall preference data\n",
    "    pref0 = preferences_0\n",
    "    pref1 = preferences_1\n",
    "    # store gender iid data\n",
    "    iids_gender0 = preferences_0[\"iid\"]\n",
    "    iids_gender1 = preferences_1[\"iid\"]\n",
    "    # calculate whether anyone is unmatched.\n",
    "    # Given how the baseline matches people (as many as possible), \n",
    "    # num_unmatched can be calculated like this:\n",
    "    greater_n = max(Z.shape)\n",
    "    smaller_n = min(Z.shape)\n",
    "    num_unmatched = greater_n - smaller_n\n",
    "    \n",
    "    # sum everything up!\n",
    "    objective = 0\n",
    "    for i in iids_gender0:\n",
    "        for j in iids_gender1:\n",
    "            z_ij = match_df.loc[i,j]\n",
    "            l_ij = float(pref0[pref0[\"iid\"]==i][str(j)+\".0\"])\n",
    "            l_ji = float(pref1[pref1[\"iid\"]==j][str(i)+\".0\"])\n",
    "            term = z_ij*(l_ij + l_ji)\n",
    "            objective -= term\n",
    "    objective += rho*num_unmatched\n",
    "    return objective"
   ]
  },
  {
   "cell_type": "markdown",
   "id": "00466187",
   "metadata": {},
   "source": [
    "# Beat This vvv"
   ]
  },
  {
   "cell_type": "code",
   "execution_count": 160,
   "id": "61208bbf",
   "metadata": {
    "scrolled": true
   },
   "outputs": [
    {
     "name": "stdout",
     "output_type": "stream",
     "text": [
      "baseline objective value:\n"
     ]
    },
    {
     "data": {
      "text/plain": [
       "2.1727820975251566"
      ]
     },
     "execution_count": 160,
     "metadata": {},
     "output_type": "execute_result"
    }
   ],
   "source": [
    "print(\"baseline objective value:\")\n",
    "compute_objective(baseline_matches,0.5)"
   ]
  },
  {
   "cell_type": "code",
   "execution_count": null,
   "id": "8a9877b0",
   "metadata": {},
   "outputs": [],
   "source": []
  }
 ],
 "metadata": {
  "kernelspec": {
   "display_name": "Python 3 (ipykernel)",
   "language": "python",
   "name": "python3"
  },
  "language_info": {
   "codemirror_mode": {
    "name": "ipython",
    "version": 3
   },
   "file_extension": ".py",
   "mimetype": "text/x-python",
   "name": "python",
   "nbconvert_exporter": "python",
   "pygments_lexer": "ipython3",
   "version": "3.9.13"
  },
  "toc": {
   "base_numbering": 1,
   "nav_menu": {},
   "number_sections": true,
   "sideBar": true,
   "skip_h1_title": false,
   "title_cell": "Table of Contents",
   "title_sidebar": "Contents",
   "toc_cell": false,
   "toc_position": {},
   "toc_section_display": true,
   "toc_window_display": false
  }
 },
 "nbformat": 4,
 "nbformat_minor": 5
}

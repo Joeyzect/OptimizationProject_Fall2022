{
 "cells": [
  {
   "cell_type": "code",
   "execution_count": 5,
   "metadata": {},
   "outputs": [],
   "source": [
    "using DataFrames, CSV\n",
    "using JuMP, Gurobi\n",
    "using LinearAlgebra, Random, Printf, CategoricalArrays\n",
    "using Plots\n",
    "using Distributions"
   ]
  },
  {
   "cell_type": "code",
   "execution_count": 8,
   "metadata": {},
   "outputs": [
    {
     "name": "stdout",
     "output_type": "stream",
     "text": [
      "Set parameter Username\n",
      "Academic license - for non-commercial use only - expires 2023-09-11\n"
     ]
    }
   ],
   "source": [
    "const GRB_ENV = Gurobi.Env();"
   ]
  },
  {
   "cell_type": "code",
   "execution_count": 9,
   "metadata": {},
   "outputs": [],
   "source": [
    "preferences_0 = CSV.read(\"preferences_0.csv\", DataFrame);\n",
    "preferences_1 = CSV.read(\"preferences_1.csv\", DataFrame);"
   ]
  },
  {
   "cell_type": "code",
   "execution_count": 23,
   "metadata": {},
   "outputs": [
    {
     "name": "stdout",
     "output_type": "stream",
     "text": [
      "Gurobi Optimizer version 9.5.2 build v9.5.2rc0 (win64)\n",
      "Thread count: 4 physical cores, 8 logical processors, using up to 8 threads\n",
      "Optimize a model with 80 rows, 440 columns and 1640 nonzeros\n",
      "Model fingerprint: 0x564d128a\n",
      "Variable types: 0 continuous, 440 integer (440 binary)\n",
      "Coefficient statistics:\n",
      "  Matrix range     [1e+00, 1e+00]\n",
      "  Objective range  [1e-04, 4e+02]\n",
      "  Bounds range     [0e+00, 0e+00]\n",
      "  RHS range        [1e+00, 1e+00]\n",
      "Found heuristic solution: objective -429.7094115\n",
      "Presolve removed 0 rows and 92 columns\n",
      "Presolve time: 0.01s\n",
      "Presolved: 80 rows, 348 columns, 1272 nonzeros\n",
      "Variable types: 0 continuous, 348 integer (348 binary)\n",
      "Found heuristic solution: objective -430.5280884\n",
      "\n",
      "Root relaxation: objective -4.799733e+02, 86 iterations, 0.01 seconds (0.00 work units)\n",
      "\n",
      "    Nodes    |    Current Node    |     Objective Bounds      |     Work\n",
      " Expl Unexpl |  Obj  Depth IntInf | Incumbent    BestBd   Gap | It/Node Time\n",
      "\n",
      "*    0     0               0    -479.9733377 -479.97334  0.00%     -    0s\n",
      "\n",
      "Explored 1 nodes (86 simplex iterations) in 0.03 seconds (0.01 work units)\n",
      "Thread count was 8 (of 8 available processors)\n",
      "\n",
      "Solution count 3: -479.973 -430.528 -429.709 \n",
      "No other solutions better than -479.973\n",
      "\n",
      "Optimal solution found (tolerance 1.00e-04)\n",
      "Best objective -4.799733377203e+02, best bound -4.799733377203e+02, gap 0.0000%\n",
      "\n",
      "User-callback calls 218, time in user-callback 0.00 sec\n"
     ]
    }
   ],
   "source": [
    "rho = 0.5;\n",
    "# Create a new model\n",
    "\n",
    "m = Model(() -> Gurobi.Optimizer(GRB_ENV))\n",
    "\n",
    "# Create variables\n",
    "\n",
    "#zij = 1 if i and j are matched, 0 otherwise\n",
    "@variable(m, z[1:size(preferences_0,1), 1:size(preferences_1,1)], Bin)\n",
    "@variable(m, ui[1:size(preferences_0,1)], Bin)\n",
    "@variable(m, uj[1:size(preferences_1,1)], Bin)\n",
    "\n",
    "# Counting variable for unmatched students\n",
    "\n",
    "#t represents max of mi and mj\n",
    "#@variable(m, t[1:size(preferences_0,1), 1:size(preferences_1,1)], Bin)\n",
    "\n",
    "# Create objective\n",
    "\n",
    "@objective(m, Min, sum(-z[i,j]*(preferences_0[i,j] + preferences_1[j, i]) for i in 1:size(preferences_0,1), j in 1:size(preferences_1,1)) + rho*(sum(ui) + sum(uj)))\n",
    "\n",
    "# Create constraints\n",
    "\n",
    "# Each person can only be matched to one person \n",
    "@constraint(m, [i in 1:size(preferences_0,1)], sum(z[i,j] for j in 1:size(preferences_1,1)) <= 1)\n",
    "@constraint(m, [j in 1:size(preferences_1,1)], sum(z[i,j] for i in 1:size(preferences_0,1)) <= 1)\n",
    "\n",
    "# If unmatched define ui and uj\n",
    "@constraint(m, [i in 1:size(preferences_0,1)], ui[i] >= 1 - sum(z[i,j] for j in 1:size(preferences_1,1)))\n",
    "@constraint(m, [j in 1:size(preferences_1,1)], uj[j] >= 1 - sum(z[i,j] for i in 1:size(preferences_0,1)))\n",
    "\n",
    "optimize!(m)"
   ]
  },
  {
   "cell_type": "code",
   "execution_count": 24,
   "metadata": {},
   "outputs": [
    {
     "data": {
      "text/plain": [
       "20×20 Matrix{Float64}:\n",
       " -0.0  -0.0  -0.0  -0.0  -0.0  -0.0  …  -0.0  -0.0  -0.0  -0.0   1.0   0.0\n",
       " -0.0  -0.0  -0.0   0.0   0.0   0.0     -0.0  -0.0   0.0   0.0  -0.0   0.0\n",
       " -0.0   1.0  -0.0  -0.0   0.0  -0.0     -0.0  -0.0  -0.0  -0.0  -0.0   0.0\n",
       " -0.0   0.0   0.0  -0.0  -0.0   1.0     -0.0   0.0  -0.0   0.0  -0.0   0.0\n",
       " -0.0  -0.0  -0.0  -0.0   0.0  -0.0     -0.0  -0.0  -0.0   0.0  -0.0   0.0\n",
       " -0.0  -0.0  -0.0   0.0  -0.0   0.0  …  -0.0   0.0  -0.0   0.0   0.0   0.0\n",
       " -0.0  -0.0  -0.0  -0.0  -0.0  -0.0      0.0  -0.0  -0.0  -0.0  -0.0  -0.0\n",
       " -0.0  -0.0  -0.0  -0.0  -0.0   0.0      0.0  -0.0  -0.0   1.0  -0.0  -0.0\n",
       " -0.0   0.0   0.0   0.0  -0.0  -0.0     -0.0   0.0   1.0   0.0  -0.0  -0.0\n",
       " -0.0   0.0  -0.0   0.0   1.0  -0.0      0.0  -0.0  -0.0   0.0   0.0  -0.0\n",
       " -0.0  -0.0  -0.0   0.0  -0.0  -0.0  …   0.0   0.0  -0.0  -0.0  -0.0  -0.0\n",
       " -0.0  -0.0   1.0   0.0  -0.0  -0.0      0.0   0.0   0.0   0.0   0.0  -0.0\n",
       " -0.0   0.0  -0.0  -0.0  -0.0  -0.0     -0.0  -0.0  -0.0  -0.0  -0.0  -0.0\n",
       " -0.0  -0.0  -0.0   0.0  -0.0  -0.0      1.0  -0.0  -0.0  -0.0  -0.0   0.0\n",
       " -0.0  -0.0  -0.0   1.0  -0.0  -0.0     -0.0  -0.0  -0.0  -0.0  -0.0  -0.0\n",
       " -0.0  -0.0  -0.0  -0.0  -0.0  -0.0  …  -0.0   1.0  -0.0  -0.0  -0.0   0.0\n",
       " -0.0  -0.0  -0.0   0.0   0.0   0.0     -0.0   0.0  -0.0  -0.0   0.0  -0.0\n",
       "  0.0  -0.0  -0.0   0.0   0.0   0.0     -0.0   0.0  -0.0  -0.0  -0.0   1.0\n",
       " -0.0  -0.0  -0.0   0.0  -0.0   0.0     -0.0   0.0   0.0   0.0  -0.0   0.0\n",
       "  1.0  -0.0  -0.0  -0.0  -0.0  -0.0     -0.0  -0.0  -0.0   0.0  -0.0  -0.0"
      ]
     },
     "execution_count": 24,
     "metadata": {},
     "output_type": "execute_result"
    }
   ],
   "source": [
    "# Get value of zij\n",
    "\n",
    "zij = value.(z)"
   ]
  },
  {
   "cell_type": "code",
   "execution_count": 22,
   "metadata": {},
   "outputs": [
    {
     "name": "stdout",
     "output_type": "stream",
     "text": [
      "1×20 Matrix{Float64}:\n",
      " 0.0  1.0  1.0  1.0  1.0  1.0  1.0  1.0  1.0  1.0  1.0  1.0  1.0  1.0  1.0  1.0  1.0  1.0  1.0  1.0"
     ]
    }
   ],
   "source": [
    "show(stdout, \"text/plain\", sum(zij, dims=1))"
   ]
  }
 ],
 "metadata": {
  "kernelspec": {
   "display_name": "Julia 1.8.0",
   "language": "julia",
   "name": "julia-1.8"
  },
  "language_info": {
   "file_extension": ".jl",
   "mimetype": "application/julia",
   "name": "julia",
   "version": "1.8.0"
  },
  "orig_nbformat": 4
 },
 "nbformat": 4,
 "nbformat_minor": 2
}

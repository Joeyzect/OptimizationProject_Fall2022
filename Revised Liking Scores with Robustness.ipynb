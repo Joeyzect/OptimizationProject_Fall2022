{
 "cells": [
  {
   "cell_type": "code",
   "execution_count": 1,
   "id": "44cbd9e8",
   "metadata": {},
   "outputs": [],
   "source": [
    "import numpy as np\n",
    "import pandas as pd\n",
    "import matplotlib.pyplot as plt"
   ]
  },
  {
   "cell_type": "markdown",
   "id": "ae26ad60",
   "metadata": {},
   "source": [
    "# Data"
   ]
  },
  {
   "cell_type": "code",
   "execution_count": 5,
   "id": "b1cec61a",
   "metadata": {},
   "outputs": [],
   "source": [
    "df = pd.read_csv(\"Speed Dating Data.csv\", encoding=\"ISO-8859-1\")"
   ]
  },
  {
   "cell_type": "markdown",
   "id": "3ab045eb",
   "metadata": {},
   "source": [
    "# Liking Scores: The Strategy"
   ]
  },
  {
   "cell_type": "markdown",
   "id": "5a61049b",
   "metadata": {},
   "source": [
    "$\\ell_{ij} = w_1(attractive_{ij} + 1) + w_2(sincere_{ij} + 1) + w_3(intelligent_{ij} + 1) + w_4(fun_{ij} + 1) + w_5(ambitious_{ij} + 1)$"
   ]
  },
  {
   "cell_type": "markdown",
   "id": "dc0813bb",
   "metadata": {},
   "source": [
    "# Find Weights"
   ]
  },
  {
   "cell_type": "code",
   "execution_count": 77,
   "id": "4330d85b",
   "metadata": {
    "scrolled": true
   },
   "outputs": [],
   "source": [
    "importances = df[[\"iid\",\"attr1_1\", \"sinc1_1\", \"intel1_1\", \"fun1_1\", \"amb1_1\"]].groupby(\"iid\").mean()"
   ]
  },
  {
   "cell_type": "code",
   "execution_count": 79,
   "id": "4f168476",
   "metadata": {},
   "outputs": [],
   "source": [
    "# scaling importances to be between 0 and 10\n",
    "importances  = (importances-0)/(10-0)"
   ]
  },
  {
   "cell_type": "code",
   "execution_count": 84,
   "id": "51d4454e",
   "metadata": {},
   "outputs": [
    {
     "data": {
      "text/html": [
       "<div>\n",
       "<style scoped>\n",
       "    .dataframe tbody tr th:only-of-type {\n",
       "        vertical-align: middle;\n",
       "    }\n",
       "\n",
       "    .dataframe tbody tr th {\n",
       "        vertical-align: top;\n",
       "    }\n",
       "\n",
       "    .dataframe thead th {\n",
       "        text-align: right;\n",
       "    }\n",
       "</style>\n",
       "<table border=\"1\" class=\"dataframe\">\n",
       "  <thead>\n",
       "    <tr style=\"text-align: right;\">\n",
       "      <th></th>\n",
       "      <th>attr1_1</th>\n",
       "      <th>sinc1_1</th>\n",
       "      <th>intel1_1</th>\n",
       "      <th>fun1_1</th>\n",
       "      <th>amb1_1</th>\n",
       "    </tr>\n",
       "    <tr>\n",
       "      <th>iid</th>\n",
       "      <th></th>\n",
       "      <th></th>\n",
       "      <th></th>\n",
       "      <th></th>\n",
       "      <th></th>\n",
       "    </tr>\n",
       "  </thead>\n",
       "  <tbody>\n",
       "    <tr>\n",
       "      <th>1</th>\n",
       "      <td>1.5</td>\n",
       "      <td>2.0</td>\n",
       "      <td>2.0</td>\n",
       "      <td>1.5</td>\n",
       "      <td>1.5</td>\n",
       "    </tr>\n",
       "    <tr>\n",
       "      <th>2</th>\n",
       "      <td>4.5</td>\n",
       "      <td>0.5</td>\n",
       "      <td>2.5</td>\n",
       "      <td>2.0</td>\n",
       "      <td>0.0</td>\n",
       "    </tr>\n",
       "    <tr>\n",
       "      <th>3</th>\n",
       "      <td>3.5</td>\n",
       "      <td>1.0</td>\n",
       "      <td>3.5</td>\n",
       "      <td>1.0</td>\n",
       "      <td>1.0</td>\n",
       "    </tr>\n",
       "    <tr>\n",
       "      <th>4</th>\n",
       "      <td>2.0</td>\n",
       "      <td>2.0</td>\n",
       "      <td>2.0</td>\n",
       "      <td>2.0</td>\n",
       "      <td>1.0</td>\n",
       "    </tr>\n",
       "    <tr>\n",
       "      <th>5</th>\n",
       "      <td>2.0</td>\n",
       "      <td>0.5</td>\n",
       "      <td>2.5</td>\n",
       "      <td>2.5</td>\n",
       "      <td>1.0</td>\n",
       "    </tr>\n",
       "  </tbody>\n",
       "</table>\n",
       "</div>"
      ],
      "text/plain": [
       "     attr1_1  sinc1_1  intel1_1  fun1_1  amb1_1\n",
       "iid                                            \n",
       "1        1.5      2.0       2.0     1.5     1.5\n",
       "2        4.5      0.5       2.5     2.0     0.0\n",
       "3        3.5      1.0       3.5     1.0     1.0\n",
       "4        2.0      2.0       2.0     2.0     1.0\n",
       "5        2.0      0.5       2.5     2.5     1.0"
      ]
     },
     "execution_count": 84,
     "metadata": {},
     "output_type": "execute_result"
    }
   ],
   "source": [
    "importances.head()"
   ]
  },
  {
   "cell_type": "code",
   "execution_count": 93,
   "id": "1c0cba76",
   "metadata": {},
   "outputs": [],
   "source": [
    "# deriving weights as the average of how important each person viewed this factor\n",
    "w_attr = np.round(importances[\"attr1_1\"].mean(),2)\n",
    "w_sinc = np.round(importances[\"sinc1_1\"].mean(),2)\n",
    "w_intel = np.round(importances[\"intel1_1\"].mean(),2)\n",
    "w_fun = np.round(importances[\"fun1_1\"].mean(),2)\n",
    "w_amb = np.round(importances[\"amb1_1\"].mean(),2)"
   ]
  },
  {
   "cell_type": "code",
   "execution_count": 95,
   "id": "da7703f5",
   "metadata": {},
   "outputs": [
    {
     "name": "stdout",
     "output_type": "stream",
     "text": [
      "w_attr:  2.27\n",
      "w_sinc:  1.73\n",
      "w_intel: 2.02\n",
      "w_fun:   1.75\n",
      "w_amb:   1.08\n"
     ]
    }
   ],
   "source": [
    "print(\"w_attr:  \" + str(w_attr))\n",
    "print(\"w_sinc:  \" + str(w_sinc))\n",
    "print(\"w_intel: \" + str(w_intel))\n",
    "print(\"w_fun:   \" + str(w_fun))\n",
    "print(\"w_amb:   \" + str(w_amb))"
   ]
  },
  {
   "cell_type": "markdown",
   "id": "db654521",
   "metadata": {},
   "source": [
    "# Find Factor Values"
   ]
  },
  {
   "cell_type": "markdown",
   "id": "6f3857c0",
   "metadata": {},
   "source": [
    "We're going to do this by finding how each person rates themself on these factors"
   ]
  },
  {
   "cell_type": "code",
   "execution_count": 120,
   "id": "ac2838ad",
   "metadata": {},
   "outputs": [
    {
     "data": {
      "text/html": [
       "<div>\n",
       "<style scoped>\n",
       "    .dataframe tbody tr th:only-of-type {\n",
       "        vertical-align: middle;\n",
       "    }\n",
       "\n",
       "    .dataframe tbody tr th {\n",
       "        vertical-align: top;\n",
       "    }\n",
       "\n",
       "    .dataframe thead th {\n",
       "        text-align: right;\n",
       "    }\n",
       "</style>\n",
       "<table border=\"1\" class=\"dataframe\">\n",
       "  <thead>\n",
       "    <tr style=\"text-align: right;\">\n",
       "      <th></th>\n",
       "      <th>attr3_1</th>\n",
       "      <th>sinc3_1</th>\n",
       "      <th>intel3_1</th>\n",
       "      <th>fun3_1</th>\n",
       "      <th>amb3_1</th>\n",
       "    </tr>\n",
       "    <tr>\n",
       "      <th>iid</th>\n",
       "      <th></th>\n",
       "      <th></th>\n",
       "      <th></th>\n",
       "      <th></th>\n",
       "      <th></th>\n",
       "    </tr>\n",
       "  </thead>\n",
       "  <tbody>\n",
       "    <tr>\n",
       "      <th>1</th>\n",
       "      <td>6.0</td>\n",
       "      <td>8.0</td>\n",
       "      <td>8.0</td>\n",
       "      <td>8.0</td>\n",
       "      <td>7.0</td>\n",
       "    </tr>\n",
       "    <tr>\n",
       "      <th>2</th>\n",
       "      <td>7.0</td>\n",
       "      <td>5.0</td>\n",
       "      <td>8.0</td>\n",
       "      <td>10.0</td>\n",
       "      <td>3.0</td>\n",
       "    </tr>\n",
       "    <tr>\n",
       "      <th>3</th>\n",
       "      <td>8.0</td>\n",
       "      <td>9.0</td>\n",
       "      <td>9.0</td>\n",
       "      <td>8.0</td>\n",
       "      <td>8.0</td>\n",
       "    </tr>\n",
       "    <tr>\n",
       "      <th>4</th>\n",
       "      <td>7.0</td>\n",
       "      <td>8.0</td>\n",
       "      <td>7.0</td>\n",
       "      <td>9.0</td>\n",
       "      <td>8.0</td>\n",
       "    </tr>\n",
       "    <tr>\n",
       "      <th>5</th>\n",
       "      <td>6.0</td>\n",
       "      <td>3.0</td>\n",
       "      <td>10.0</td>\n",
       "      <td>6.0</td>\n",
       "      <td>8.0</td>\n",
       "    </tr>\n",
       "  </tbody>\n",
       "</table>\n",
       "</div>"
      ],
      "text/plain": [
       "     attr3_1  sinc3_1  intel3_1  fun3_1  amb3_1\n",
       "iid                                            \n",
       "1        6.0      8.0       8.0     8.0     7.0\n",
       "2        7.0      5.0       8.0    10.0     3.0\n",
       "3        8.0      9.0       9.0     8.0     8.0\n",
       "4        7.0      8.0       7.0     9.0     8.0\n",
       "5        6.0      3.0      10.0     6.0     8.0"
      ]
     },
     "execution_count": 120,
     "metadata": {},
     "output_type": "execute_result"
    }
   ],
   "source": [
    "values = df[[\"iid\",\"attr3_1\", \"sinc3_1\", \"intel3_1\", \"fun3_1\", \"amb3_1\"]].groupby(\"iid\").mean()\n",
    "values.head()"
   ]
  },
  {
   "cell_type": "code",
   "execution_count": 135,
   "id": "5b5927a0",
   "metadata": {},
   "outputs": [
    {
     "data": {
      "text/html": [
       "<div>\n",
       "<style scoped>\n",
       "    .dataframe tbody tr th:only-of-type {\n",
       "        vertical-align: middle;\n",
       "    }\n",
       "\n",
       "    .dataframe tbody tr th {\n",
       "        vertical-align: top;\n",
       "    }\n",
       "\n",
       "    .dataframe thead th {\n",
       "        text-align: right;\n",
       "    }\n",
       "</style>\n",
       "<table border=\"1\" class=\"dataframe\">\n",
       "  <thead>\n",
       "    <tr style=\"text-align: right;\">\n",
       "      <th></th>\n",
       "      <th>attr3_1</th>\n",
       "      <th>sinc3_1</th>\n",
       "      <th>intel3_1</th>\n",
       "      <th>fun3_1</th>\n",
       "      <th>amb3_1</th>\n",
       "    </tr>\n",
       "    <tr>\n",
       "      <th>iid</th>\n",
       "      <th></th>\n",
       "      <th></th>\n",
       "      <th></th>\n",
       "      <th></th>\n",
       "      <th></th>\n",
       "    </tr>\n",
       "  </thead>\n",
       "  <tbody>\n",
       "    <tr>\n",
       "      <th>1</th>\n",
       "      <td>-0.785746</td>\n",
       "      <td>-0.202528</td>\n",
       "      <td>-0.353867</td>\n",
       "      <td>0.193145</td>\n",
       "      <td>-0.323290</td>\n",
       "    </tr>\n",
       "    <tr>\n",
       "      <th>2</th>\n",
       "      <td>-0.066364</td>\n",
       "      <td>-2.327117</td>\n",
       "      <td>-0.353867</td>\n",
       "      <td>1.485544</td>\n",
       "      <td>-2.562565</td>\n",
       "    </tr>\n",
       "    <tr>\n",
       "      <th>3</th>\n",
       "      <td>0.653019</td>\n",
       "      <td>0.505668</td>\n",
       "      <td>0.563817</td>\n",
       "      <td>0.193145</td>\n",
       "      <td>0.236529</td>\n",
       "    </tr>\n",
       "    <tr>\n",
       "      <th>4</th>\n",
       "      <td>-0.066364</td>\n",
       "      <td>-0.202528</td>\n",
       "      <td>-1.271551</td>\n",
       "      <td>0.839344</td>\n",
       "      <td>0.236529</td>\n",
       "    </tr>\n",
       "    <tr>\n",
       "      <th>5</th>\n",
       "      <td>-0.785746</td>\n",
       "      <td>-3.743510</td>\n",
       "      <td>1.481501</td>\n",
       "      <td>-1.099255</td>\n",
       "      <td>0.236529</td>\n",
       "    </tr>\n",
       "  </tbody>\n",
       "</table>\n",
       "</div>"
      ],
      "text/plain": [
       "      attr3_1   sinc3_1  intel3_1    fun3_1    amb3_1\n",
       "iid                                                  \n",
       "1   -0.785746 -0.202528 -0.353867  0.193145 -0.323290\n",
       "2   -0.066364 -2.327117 -0.353867  1.485544 -2.562565\n",
       "3    0.653019  0.505668  0.563817  0.193145  0.236529\n",
       "4   -0.066364 -0.202528 -1.271551  0.839344  0.236529\n",
       "5   -0.785746 -3.743510  1.481501 -1.099255  0.236529"
      ]
     },
     "execution_count": 135,
     "metadata": {},
     "output_type": "execute_result"
    }
   ],
   "source": [
    "# normalizing these values to have standard normal distribution\n",
    "values = (values - values.mean()) / values.std()\n",
    "values.head()"
   ]
  },
  {
   "cell_type": "code",
   "execution_count": 141,
   "id": "82c4e1be",
   "metadata": {},
   "outputs": [],
   "source": [
    "# impute missing scores using mean\n",
    "values = values.fillna(0);"
   ]
  },
  {
   "cell_type": "code",
   "execution_count": 153,
   "id": "13c4933f",
   "metadata": {
    "scrolled": true
   },
   "outputs": [
    {
     "data": {
      "text/html": [
       "<div>\n",
       "<style scoped>\n",
       "    .dataframe tbody tr th:only-of-type {\n",
       "        vertical-align: middle;\n",
       "    }\n",
       "\n",
       "    .dataframe tbody tr th {\n",
       "        vertical-align: top;\n",
       "    }\n",
       "\n",
       "    .dataframe thead th {\n",
       "        text-align: right;\n",
       "    }\n",
       "</style>\n",
       "<table border=\"1\" class=\"dataframe\">\n",
       "  <thead>\n",
       "    <tr style=\"text-align: right;\">\n",
       "      <th></th>\n",
       "      <th>attr</th>\n",
       "      <th>sinc</th>\n",
       "      <th>intel</th>\n",
       "      <th>fun</th>\n",
       "      <th>amb</th>\n",
       "      <th>iid</th>\n",
       "    </tr>\n",
       "    <tr>\n",
       "      <th>iid</th>\n",
       "      <th></th>\n",
       "      <th></th>\n",
       "      <th></th>\n",
       "      <th></th>\n",
       "      <th></th>\n",
       "      <th></th>\n",
       "    </tr>\n",
       "  </thead>\n",
       "  <tbody>\n",
       "    <tr>\n",
       "      <th>1</th>\n",
       "      <td>-0.785746</td>\n",
       "      <td>-0.202528</td>\n",
       "      <td>-0.353867</td>\n",
       "      <td>0.193145</td>\n",
       "      <td>-0.323290</td>\n",
       "      <td>1</td>\n",
       "    </tr>\n",
       "    <tr>\n",
       "      <th>2</th>\n",
       "      <td>-0.066364</td>\n",
       "      <td>-2.327117</td>\n",
       "      <td>-0.353867</td>\n",
       "      <td>1.485544</td>\n",
       "      <td>-2.562565</td>\n",
       "      <td>2</td>\n",
       "    </tr>\n",
       "    <tr>\n",
       "      <th>3</th>\n",
       "      <td>0.653019</td>\n",
       "      <td>0.505668</td>\n",
       "      <td>0.563817</td>\n",
       "      <td>0.193145</td>\n",
       "      <td>0.236529</td>\n",
       "      <td>3</td>\n",
       "    </tr>\n",
       "    <tr>\n",
       "      <th>4</th>\n",
       "      <td>-0.066364</td>\n",
       "      <td>-0.202528</td>\n",
       "      <td>-1.271551</td>\n",
       "      <td>0.839344</td>\n",
       "      <td>0.236529</td>\n",
       "      <td>4</td>\n",
       "    </tr>\n",
       "    <tr>\n",
       "      <th>5</th>\n",
       "      <td>-0.785746</td>\n",
       "      <td>-3.743510</td>\n",
       "      <td>1.481501</td>\n",
       "      <td>-1.099255</td>\n",
       "      <td>0.236529</td>\n",
       "      <td>5</td>\n",
       "    </tr>\n",
       "  </tbody>\n",
       "</table>\n",
       "</div>"
      ],
      "text/plain": [
       "         attr      sinc     intel       fun       amb  iid\n",
       "iid                                                       \n",
       "1   -0.785746 -0.202528 -0.353867  0.193145 -0.323290    1\n",
       "2   -0.066364 -2.327117 -0.353867  1.485544 -2.562565    2\n",
       "3    0.653019  0.505668  0.563817  0.193145  0.236529    3\n",
       "4   -0.066364 -0.202528 -1.271551  0.839344  0.236529    4\n",
       "5   -0.785746 -3.743510  1.481501 -1.099255  0.236529    5"
      ]
     },
     "execution_count": 153,
     "metadata": {},
     "output_type": "execute_result"
    }
   ],
   "source": [
    "# bring iid in as its own column\n",
    "values[\"iid\"] = values.index\n",
    "values = values.rename(columns={\"attr3_1\":\"attr\",\n",
    "                                \"sinc3_1\":\"sinc\",\n",
    "                                \"intel3_1\":\"intel\",\n",
    "                                \"fun3_1\":\"fun\",\n",
    "                                \"amb3_1\":\"amb\"})\n",
    "values.head()"
   ]
  },
  {
   "cell_type": "code",
   "execution_count": 156,
   "id": "9a14a6f5",
   "metadata": {},
   "outputs": [],
   "source": [
    "# export to CSV\n",
    "values.to_csv(\"people_scores.csv\")"
   ]
  },
  {
   "cell_type": "markdown",
   "id": "d8923c4b",
   "metadata": {},
   "source": [
    "# Final Formulation for Liking Scores:"
   ]
  },
  {
   "cell_type": "markdown",
   "id": "9ff8ef5b",
   "metadata": {},
   "source": [
    "$\\ell_{ij}$ = 2.27( people_scores.loc[j,\"attr\"] + 1) + 1.73( people_scores.loc[j,\"sinc\"] + 1) + 2.02( people_scores.loc[j,\"intel\"] + 1) + 1.75( people_scores.loc[j,\"fun\"] + 1) + 1.08( people_scores.loc[j,\"amb\"] + 1)"
   ]
  },
  {
   "cell_type": "code",
   "execution_count": null,
   "id": "6ac20f1e",
   "metadata": {},
   "outputs": [],
   "source": []
  }
 ],
 "metadata": {
  "kernelspec": {
   "display_name": "Python 3 (ipykernel)",
   "language": "python",
   "name": "python3"
  },
  "language_info": {
   "codemirror_mode": {
    "name": "ipython",
    "version": 3
   },
   "file_extension": ".py",
   "mimetype": "text/x-python",
   "name": "python",
   "nbconvert_exporter": "python",
   "pygments_lexer": "ipython3",
   "version": "3.9.13"
  },
  "toc": {
   "base_numbering": 1,
   "nav_menu": {},
   "number_sections": true,
   "sideBar": true,
   "skip_h1_title": false,
   "title_cell": "Table of Contents",
   "title_sidebar": "Contents",
   "toc_cell": false,
   "toc_position": {},
   "toc_section_display": true,
   "toc_window_display": false
  }
 },
 "nbformat": 4,
 "nbformat_minor": 5
}

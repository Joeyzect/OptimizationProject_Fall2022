{
 "cells": [
  {
   "cell_type": "code",
   "execution_count": 1,
   "metadata": {},
   "outputs": [],
   "source": [
    "using DataFrames, CSV\n",
    "using JuMP, Gurobi\n",
    "using LinearAlgebra, Random, Printf, CategoricalArrays\n",
    "using Plots\n",
    "using Distributions"
   ]
  },
  {
   "cell_type": "code",
   "execution_count": 2,
   "metadata": {},
   "outputs": [
    {
     "name": "stdout",
     "output_type": "stream",
     "text": [
      "Set parameter Username\n",
      "Academic license - for non-commercial use only - expires 2023-09-11\n"
     ]
    }
   ],
   "source": [
    "const GRB_ENV = Gurobi.Env();"
   ]
  },
  {
   "cell_type": "code",
   "execution_count": 3,
   "metadata": {},
   "outputs": [],
   "source": [
    "RHO = -0.5;"
   ]
  },
  {
   "cell_type": "code",
   "execution_count": 4,
   "metadata": {},
   "outputs": [],
   "source": [
    "df = CSV.read(\"imputed_table.csv\", DataFrame)[:, 2:end];\n",
    "\n",
    "people = CSV.read(\"people.csv\", DataFrame);"
   ]
  },
  {
   "cell_type": "code",
   "execution_count": 5,
   "metadata": {},
   "outputs": [],
   "source": [
    "people_df = people;"
   ]
  },
  {
   "cell_type": "code",
   "execution_count": 6,
   "metadata": {},
   "outputs": [
    {
     "data": {
      "text/html": [
       "<div class=\"data-frame\"><p>20 rows × 20 columns (omitted printing of 13 columns)</p><table class=\"data-frame\"><thead><tr><th></th><th>1.0</th><th>2.0</th><th>3.0</th><th>4.0</th><th>5.0</th><th>6.0</th><th>7.0</th></tr><tr><th></th><th title=\"Float64\">Float64</th><th title=\"Float64\">Float64</th><th title=\"Float64\">Float64</th><th title=\"Float64\">Float64</th><th title=\"Float64\">Float64</th><th title=\"Float64\">Float64</th><th title=\"Float64\">Float64</th></tr></thead><tbody><tr><th>1</th><td>0.12573</td><td>-0.132105</td><td>0.640423</td><td>0.1049</td><td>-0.535669</td><td>0.361595</td><td>1.304</td></tr><tr><th>2</th><td>-0.504199</td><td>0.357955</td><td>0.414866</td><td>-1.24978</td><td>0.175539</td><td>-0.320363</td><td>-1.90409</td></tr><tr><th>3</th><td>0.937358</td><td>0.21877</td><td>0.339794</td><td>1.39214</td><td>0.31772</td><td>0.545022</td><td>0.99023</td></tr><tr><th>4</th><td>0.135331</td><td>0.261963</td><td>0.7203</td><td>-0.553811</td><td>-1.29184</td><td>-1.6005</td><td>0.553141</td></tr><tr><th>5</th><td>-1.23944</td><td>0.00437185</td><td>0.335725</td><td>1.19403</td><td>2.65828</td><td>-0.396796</td><td>-0.877103</td></tr><tr><th>6</th><td>-0.613547</td><td>1.13328</td><td>-0.784445</td><td>0.119175</td><td>-0.284907</td><td>0.00117764</td><td>-0.559545</td></tr><tr><th>7</th><td>0.450715</td><td>-0.226007</td><td>0.66004</td><td>-1.7661</td><td>-0.100062</td><td>0.861031</td><td>0.479559</td></tr><tr><th>8</th><td>-0.489866</td><td>0.541139</td><td>-0.336873</td><td>0.770053</td><td>0.983356</td><td>1.98303</td><td>-0.412383</td></tr><tr><th>9</th><td>-0.234397</td><td>1.84195</td><td>0.398938</td><td>-1.88541</td><td>-1.23653</td><td>1.51647</td><td>-0.0490567</td></tr><tr><th>10</th><td>-1.2167</td><td>-0.163417</td><td>-0.54922</td><td>2.28551</td><td>0.260751</td><td>2.20539</td><td>-1.40936</td></tr><tr><th>11</th><td>0.858116</td><td>0.858116</td><td>-2.00227</td><td>-0.572078</td><td>-0.572078</td><td>0.858116</td><td>0.858116</td></tr><tr><th>12</th><td>0.404164</td><td>0.404164</td><td>-0.0212718</td><td>-0.446707</td><td>-0.0212718</td><td>-0.0212718</td><td>0.616882</td></tr><tr><th>13</th><td>-1.73345</td><td>0.457652</td><td>-1.0243</td><td>1.48825</td><td>1.85842</td><td>0.761286</td><td>-1.03349</td></tr><tr><th>14</th><td>-0.707107</td><td>2.12132</td><td>-0.707107</td><td>0.707107</td><td>-0.707107</td><td>-0.707107</td><td>0.707107</td></tr><tr><th>15</th><td>0.201979</td><td>1.35615</td><td>-0.952187</td><td>0.779062</td><td>-1.81781</td><td>0.779062</td><td>0.201979</td></tr><tr><th>16</th><td>1.1068</td><td>1.1068</td><td>-0.474342</td><td>-0.474342</td><td>-1.26491</td><td>-0.474342</td><td>1.1068</td></tr><tr><th>17</th><td>-1.01666</td><td>-0.0484123</td><td>-1.01666</td><td>1.1619</td><td>-0.532535</td><td>-0.532535</td><td>0.435711</td></tr><tr><th>18</th><td>0.191446</td><td>0.829599</td><td>-2.36117</td><td>0.191446</td><td>-1.08486</td><td>0.191446</td><td>0.829599</td></tr><tr><th>19</th><td>-0.766131</td><td>0.766131</td><td>-0.255377</td><td>0.766131</td><td>-0.255377</td><td>-1.27688</td><td>1.78764</td></tr><tr><th>20</th><td>-0.203186</td><td>-0.203186</td><td>-1.01593</td><td>0.609557</td><td>-1.82867</td><td>-0.203186</td><td>0.609557</td></tr></tbody></table></div>"
      ],
      "text/latex": [
       "\\begin{tabular}{r|cccccccc}\n",
       "\t& 1.0 & 2.0 & 3.0 & 4.0 & 5.0 & 6.0 & 7.0 & \\\\\n",
       "\t\\hline\n",
       "\t& Float64 & Float64 & Float64 & Float64 & Float64 & Float64 & Float64 & \\\\\n",
       "\t\\hline\n",
       "\t1 & 0.12573 & -0.132105 & 0.640423 & 0.1049 & -0.535669 & 0.361595 & 1.304 & $\\dots$ \\\\\n",
       "\t2 & -0.504199 & 0.357955 & 0.414866 & -1.24978 & 0.175539 & -0.320363 & -1.90409 & $\\dots$ \\\\\n",
       "\t3 & 0.937358 & 0.21877 & 0.339794 & 1.39214 & 0.31772 & 0.545022 & 0.99023 & $\\dots$ \\\\\n",
       "\t4 & 0.135331 & 0.261963 & 0.7203 & -0.553811 & -1.29184 & -1.6005 & 0.553141 & $\\dots$ \\\\\n",
       "\t5 & -1.23944 & 0.00437185 & 0.335725 & 1.19403 & 2.65828 & -0.396796 & -0.877103 & $\\dots$ \\\\\n",
       "\t6 & -0.613547 & 1.13328 & -0.784445 & 0.119175 & -0.284907 & 0.00117764 & -0.559545 & $\\dots$ \\\\\n",
       "\t7 & 0.450715 & -0.226007 & 0.66004 & -1.7661 & -0.100062 & 0.861031 & 0.479559 & $\\dots$ \\\\\n",
       "\t8 & -0.489866 & 0.541139 & -0.336873 & 0.770053 & 0.983356 & 1.98303 & -0.412383 & $\\dots$ \\\\\n",
       "\t9 & -0.234397 & 1.84195 & 0.398938 & -1.88541 & -1.23653 & 1.51647 & -0.0490567 & $\\dots$ \\\\\n",
       "\t10 & -1.2167 & -0.163417 & -0.54922 & 2.28551 & 0.260751 & 2.20539 & -1.40936 & $\\dots$ \\\\\n",
       "\t11 & 0.858116 & 0.858116 & -2.00227 & -0.572078 & -0.572078 & 0.858116 & 0.858116 & $\\dots$ \\\\\n",
       "\t12 & 0.404164 & 0.404164 & -0.0212718 & -0.446707 & -0.0212718 & -0.0212718 & 0.616882 & $\\dots$ \\\\\n",
       "\t13 & -1.73345 & 0.457652 & -1.0243 & 1.48825 & 1.85842 & 0.761286 & -1.03349 & $\\dots$ \\\\\n",
       "\t14 & -0.707107 & 2.12132 & -0.707107 & 0.707107 & -0.707107 & -0.707107 & 0.707107 & $\\dots$ \\\\\n",
       "\t15 & 0.201979 & 1.35615 & -0.952187 & 0.779062 & -1.81781 & 0.779062 & 0.201979 & $\\dots$ \\\\\n",
       "\t16 & 1.1068 & 1.1068 & -0.474342 & -0.474342 & -1.26491 & -0.474342 & 1.1068 & $\\dots$ \\\\\n",
       "\t17 & -1.01666 & -0.0484123 & -1.01666 & 1.1619 & -0.532535 & -0.532535 & 0.435711 & $\\dots$ \\\\\n",
       "\t18 & 0.191446 & 0.829599 & -2.36117 & 0.191446 & -1.08486 & 0.191446 & 0.829599 & $\\dots$ \\\\\n",
       "\t19 & -0.766131 & 0.766131 & -0.255377 & 0.766131 & -0.255377 & -1.27688 & 1.78764 & $\\dots$ \\\\\n",
       "\t20 & -0.203186 & -0.203186 & -1.01593 & 0.609557 & -1.82867 & -0.203186 & 0.609557 & $\\dots$ \\\\\n",
       "\\end{tabular}\n"
      ],
      "text/plain": [
       "\u001b[1m20×20 DataFrame\u001b[0m\n",
       "\u001b[1m Row \u001b[0m│\u001b[1m 1.0       \u001b[0m\u001b[1m 2.0         \u001b[0m\u001b[1m 3.0        \u001b[0m\u001b[1m 4.0       \u001b[0m\u001b[1m 5.0        \u001b[0m\u001b[1m 6.0         \u001b[0m\u001b[1m\u001b[0m ⋯\n",
       "\u001b[1m     \u001b[0m│\u001b[90m Float64   \u001b[0m\u001b[90m Float64     \u001b[0m\u001b[90m Float64    \u001b[0m\u001b[90m Float64   \u001b[0m\u001b[90m Float64    \u001b[0m\u001b[90m Float64     \u001b[0m\u001b[90m\u001b[0m ⋯\n",
       "─────┼──────────────────────────────────────────────────────────────────────────\n",
       "   1 │  0.12573   -0.132105     0.640423    0.1049    -0.535669    0.361595    ⋯\n",
       "   2 │ -0.504199   0.357955     0.414866   -1.24978    0.175539   -0.320363\n",
       "   3 │  0.937358   0.21877      0.339794    1.39214    0.31772     0.545022\n",
       "   4 │  0.135331   0.261963     0.7203     -0.553811  -1.29184    -1.6005\n",
       "   5 │ -1.23944    0.00437185   0.335725    1.19403    2.65828    -0.396796    ⋯\n",
       "   6 │ -0.613547   1.13328     -0.784445    0.119175  -0.284907    0.00117764\n",
       "   7 │  0.450715  -0.226007     0.66004    -1.7661    -0.100062    0.861031\n",
       "   8 │ -0.489866   0.541139    -0.336873    0.770053   0.983356    1.98303\n",
       "   9 │ -0.234397   1.84195      0.398938   -1.88541   -1.23653     1.51647     ⋯\n",
       "  10 │ -1.2167    -0.163417    -0.54922     2.28551    0.260751    2.20539\n",
       "  11 │  0.858116   0.858116    -2.00227    -0.572078  -0.572078    0.858116\n",
       "  12 │  0.404164   0.404164    -0.0212718  -0.446707  -0.0212718  -0.0212718\n",
       "  13 │ -1.73345    0.457652    -1.0243      1.48825    1.85842     0.761286    ⋯\n",
       "  14 │ -0.707107   2.12132     -0.707107    0.707107  -0.707107   -0.707107\n",
       "  15 │  0.201979   1.35615     -0.952187    0.779062  -1.81781     0.779062\n",
       "  16 │  1.1068     1.1068      -0.474342   -0.474342  -1.26491    -0.474342\n",
       "  17 │ -1.01666   -0.0484123   -1.01666     1.1619    -0.532535   -0.532535    ⋯\n",
       "  18 │  0.191446   0.829599    -2.36117     0.191446  -1.08486     0.191446\n",
       "  19 │ -0.766131   0.766131    -0.255377    0.766131  -0.255377   -1.27688\n",
       "  20 │ -0.203186  -0.203186    -1.01593     0.609557  -1.82867    -0.203186\n",
       "\u001b[36m                                                              14 columns omitted\u001b[0m"
      ]
     },
     "execution_count": 6,
     "metadata": {},
     "output_type": "execute_result"
    }
   ],
   "source": [
    "preference_df = df[1:20, 1:20]"
   ]
  },
  {
   "cell_type": "code",
   "execution_count": 7,
   "metadata": {},
   "outputs": [
    {
     "name": "stdout",
     "output_type": "stream",
     "text": [
      "Gurobi Optimizer version 9.5.2 build v9.5.2rc0 (win64)\n",
      "Thread count: 4 physical cores, 8 logical processors, using up to 8 threads\n",
      "Optimize a model with 250 rows, 800 columns and 1180 nonzeros\n",
      "Model fingerprint: 0xf3b7ed8a\n",
      "Variable types: 0 continuous, 800 integer (800 binary)\n",
      "Coefficient statistics:\n",
      "  Matrix range     [1e+00, 1e+00]\n",
      "  Objective range  [4e-03, 6e+00]\n",
      "  Bounds range     [0e+00, 0e+00]\n",
      "  RHS range        [1e+00, 1e+00]\n",
      "Found heuristic solution: objective -16.2809448\n",
      "Presolve removed 233 rows and 751 columns\n",
      "Presolve time: 0.02s\n",
      "Presolved: 17 rows, 49 columns, 98 nonzeros\n",
      "Found heuristic solution: objective -26.8279622\n",
      "Variable types: 0 continuous, 49 integer (49 binary)\n",
      "Found heuristic solution: objective -27.4746954\n",
      "\n",
      "Root relaxation: objective -2.886995e+01, 16 iterations, 0.00 seconds (0.00 work units)\n",
      "\n",
      "    Nodes    |    Current Node    |     Objective Bounds      |     Work\n",
      " Expl Unexpl |  Obj  Depth IntInf | Incumbent    BestBd   Gap | It/Node Time\n",
      "\n",
      "     0     0  -28.86995    0    3  -27.47470  -28.86995  5.08%     -    0s\n",
      "H    0     0                     -28.5673143  -28.86995  1.06%     -    0s\n",
      "\n",
      "Explored 1 nodes (16 simplex iterations) in 0.06 seconds (0.00 work units)\n",
      "Thread count was 8 (of 8 available processors)\n",
      "\n",
      "Solution count 4: -28.5673 -27.4747 -26.828 -16.2809 \n",
      "No other solutions better than -28.5673\n",
      "\n",
      "Optimal solution found (tolerance 1.00e-04)\n",
      "Best objective -2.856731430470e+01, best bound -2.856731430470e+01, gap 0.0000%\n",
      "\n",
      "User-callback calls 335, time in user-callback 0.01 sec\n"
     ]
    }
   ],
   "source": [
    "m1 = Model(() -> Gurobi.Optimizer(GRB_ENV))\n",
    "\n",
    "# Create variables\n",
    "@variable(m1, z[1:size(preference_df, 1), 1:size(preference_df, 2)], Bin)\n",
    "@variable(m1, t[1:size(preference_df, 1), 1:size(preference_df, 2)], Bin)\n",
    "\n",
    "# Create objective\n",
    "@objective(m1, Min, -1 * sum(z[i,j] * (preference_df[i,j] + preference_df[j,i]) for i in 1:size(preference_df)[1], j in i:size(preference_df)[2]) + (size(preference_df)[1] - sum(z)) * -RHO)\n",
    "\n",
    "# Create constraints\n",
    "\n",
    "# Each person can only be matched with one person\n",
    "@constraint(m1, [i=1:size(preference_df, 1)], sum(z[i,j] for j in 1:size(preference_df, 2)) <= 1)\n",
    "@constraint(m1, [j=1:size(preference_df, 2)], sum(z[i,j] for i in 1:size(preference_df, 1)) <= 1)\n",
    "\n",
    "# Make sure that if i is matched with j, then j is matched with i\n",
    "# Different gender matching\n",
    "# People with strong religious preferences are matched with someone sharing the same religious preference\n",
    "religion_df = Matrix(people_df[:, [:agnostic, :atheist, :buddhist, :catholic, :hindu, :jewish, :mormon, :muslim, :protestant, :unaffiliated]])\n",
    "\n",
    "for i in 1:size(z, 1)\n",
    "    for j in i:size(z, 2)\n",
    "        @constraint(m1, z[i,j] == z[j,i])\n",
    "        #@constraint(m1, (people_df[i, :gender] + people_df[j, :gender] - 1) * z[i,j] ==0 )\n",
    "\n",
    "        #@constraint(m1, (1 - sum(religion_df[i, k] * religion_df[j, k] for k in 1:size(religion_df)[2])) * t[i,j] * z[i,j] <= 0)\n",
    "        #@constraint(m1, t[i,j] >= people_df[i, :imprelig])\n",
    "        #@constraint(m1, t[i,j] >= people_df[j, :imprelig])\n",
    "    end\n",
    "end\n",
    "\n",
    "optimize!(m1)"
   ]
  },
  {
   "cell_type": "code",
   "execution_count": 14,
   "metadata": {},
   "outputs": [],
   "source": [
    "write_to_file(m1, \"model_orig.lp\")"
   ]
  },
  {
   "cell_type": "code",
   "execution_count": 12,
   "metadata": {},
   "outputs": [],
   "source": [
    "MOI.get(m1, Gurobi.ModelAttribute(\"IsMIP\"))"
   ]
  },
  {
   "cell_type": "code",
   "execution_count": 15,
   "metadata": {},
   "outputs": [
    {
     "data": {
      "text/html": [
       "<div class=\"data-frame\"><p>20 rows × 20 columns (omitted printing of 13 columns)</p><table class=\"data-frame\"><thead><tr><th></th><th>1.0</th><th>2.0</th><th>3.0</th><th>4.0</th><th>5.0</th><th>6.0</th><th>7.0</th></tr><tr><th></th><th title=\"Float64\">Float64</th><th title=\"Float64\">Float64</th><th title=\"Float64\">Float64</th><th title=\"Float64\">Float64</th><th title=\"Float64\">Float64</th><th title=\"Float64\">Float64</th><th title=\"Float64\">Float64</th></tr></thead><tbody><tr><th>1</th><td>0.12573</td><td>-0.132105</td><td>0.640423</td><td>0.1049</td><td>-0.535669</td><td>0.361595</td><td>1.304</td></tr><tr><th>2</th><td>-0.504199</td><td>0.357955</td><td>0.414866</td><td>-1.24978</td><td>0.175539</td><td>-0.320363</td><td>-1.90409</td></tr><tr><th>3</th><td>0.937358</td><td>0.21877</td><td>0.339794</td><td>1.39214</td><td>0.31772</td><td>0.545022</td><td>0.99023</td></tr><tr><th>4</th><td>0.135331</td><td>0.261963</td><td>0.7203</td><td>-0.553811</td><td>-1.29184</td><td>-1.6005</td><td>0.553141</td></tr><tr><th>5</th><td>-1.23944</td><td>0.00437185</td><td>0.335725</td><td>1.19403</td><td>2.65828</td><td>-0.396796</td><td>-0.877103</td></tr><tr><th>6</th><td>-0.613547</td><td>1.13328</td><td>-0.784445</td><td>0.119175</td><td>-0.284907</td><td>0.00117764</td><td>-0.559545</td></tr><tr><th>7</th><td>0.450715</td><td>-0.226007</td><td>0.66004</td><td>-1.7661</td><td>-0.100062</td><td>0.861031</td><td>0.479559</td></tr><tr><th>8</th><td>-0.489866</td><td>0.541139</td><td>-0.336873</td><td>0.770053</td><td>0.983356</td><td>1.98303</td><td>-0.412383</td></tr><tr><th>9</th><td>-0.234397</td><td>1.84195</td><td>0.398938</td><td>-1.88541</td><td>-1.23653</td><td>1.51647</td><td>-0.0490567</td></tr><tr><th>10</th><td>-1.2167</td><td>-0.163417</td><td>-0.54922</td><td>2.28551</td><td>0.260751</td><td>2.20539</td><td>-1.40936</td></tr><tr><th>11</th><td>0.858116</td><td>0.858116</td><td>-2.00227</td><td>-0.572078</td><td>-0.572078</td><td>0.858116</td><td>0.858116</td></tr><tr><th>12</th><td>0.404164</td><td>0.404164</td><td>-0.0212718</td><td>-0.446707</td><td>-0.0212718</td><td>-0.0212718</td><td>0.616882</td></tr><tr><th>13</th><td>-1.73345</td><td>0.457652</td><td>-1.0243</td><td>1.48825</td><td>1.85842</td><td>0.761286</td><td>-1.03349</td></tr><tr><th>14</th><td>-0.707107</td><td>2.12132</td><td>-0.707107</td><td>0.707107</td><td>-0.707107</td><td>-0.707107</td><td>0.707107</td></tr><tr><th>15</th><td>0.201979</td><td>1.35615</td><td>-0.952187</td><td>0.779062</td><td>-1.81781</td><td>0.779062</td><td>0.201979</td></tr><tr><th>16</th><td>1.1068</td><td>1.1068</td><td>-0.474342</td><td>-0.474342</td><td>-1.26491</td><td>-0.474342</td><td>1.1068</td></tr><tr><th>17</th><td>-1.01666</td><td>-0.0484123</td><td>-1.01666</td><td>1.1619</td><td>-0.532535</td><td>-0.532535</td><td>0.435711</td></tr><tr><th>18</th><td>0.191446</td><td>0.829599</td><td>-2.36117</td><td>0.191446</td><td>-1.08486</td><td>0.191446</td><td>0.829599</td></tr><tr><th>19</th><td>-0.766131</td><td>0.766131</td><td>-0.255377</td><td>0.766131</td><td>-0.255377</td><td>-1.27688</td><td>1.78764</td></tr><tr><th>20</th><td>-0.203186</td><td>-0.203186</td><td>-1.01593</td><td>0.609557</td><td>-1.82867</td><td>-0.203186</td><td>0.609557</td></tr></tbody></table></div>"
      ],
      "text/latex": [
       "\\begin{tabular}{r|cccccccc}\n",
       "\t& 1.0 & 2.0 & 3.0 & 4.0 & 5.0 & 6.0 & 7.0 & \\\\\n",
       "\t\\hline\n",
       "\t& Float64 & Float64 & Float64 & Float64 & Float64 & Float64 & Float64 & \\\\\n",
       "\t\\hline\n",
       "\t1 & 0.12573 & -0.132105 & 0.640423 & 0.1049 & -0.535669 & 0.361595 & 1.304 & $\\dots$ \\\\\n",
       "\t2 & -0.504199 & 0.357955 & 0.414866 & -1.24978 & 0.175539 & -0.320363 & -1.90409 & $\\dots$ \\\\\n",
       "\t3 & 0.937358 & 0.21877 & 0.339794 & 1.39214 & 0.31772 & 0.545022 & 0.99023 & $\\dots$ \\\\\n",
       "\t4 & 0.135331 & 0.261963 & 0.7203 & -0.553811 & -1.29184 & -1.6005 & 0.553141 & $\\dots$ \\\\\n",
       "\t5 & -1.23944 & 0.00437185 & 0.335725 & 1.19403 & 2.65828 & -0.396796 & -0.877103 & $\\dots$ \\\\\n",
       "\t6 & -0.613547 & 1.13328 & -0.784445 & 0.119175 & -0.284907 & 0.00117764 & -0.559545 & $\\dots$ \\\\\n",
       "\t7 & 0.450715 & -0.226007 & 0.66004 & -1.7661 & -0.100062 & 0.861031 & 0.479559 & $\\dots$ \\\\\n",
       "\t8 & -0.489866 & 0.541139 & -0.336873 & 0.770053 & 0.983356 & 1.98303 & -0.412383 & $\\dots$ \\\\\n",
       "\t9 & -0.234397 & 1.84195 & 0.398938 & -1.88541 & -1.23653 & 1.51647 & -0.0490567 & $\\dots$ \\\\\n",
       "\t10 & -1.2167 & -0.163417 & -0.54922 & 2.28551 & 0.260751 & 2.20539 & -1.40936 & $\\dots$ \\\\\n",
       "\t11 & 0.858116 & 0.858116 & -2.00227 & -0.572078 & -0.572078 & 0.858116 & 0.858116 & $\\dots$ \\\\\n",
       "\t12 & 0.404164 & 0.404164 & -0.0212718 & -0.446707 & -0.0212718 & -0.0212718 & 0.616882 & $\\dots$ \\\\\n",
       "\t13 & -1.73345 & 0.457652 & -1.0243 & 1.48825 & 1.85842 & 0.761286 & -1.03349 & $\\dots$ \\\\\n",
       "\t14 & -0.707107 & 2.12132 & -0.707107 & 0.707107 & -0.707107 & -0.707107 & 0.707107 & $\\dots$ \\\\\n",
       "\t15 & 0.201979 & 1.35615 & -0.952187 & 0.779062 & -1.81781 & 0.779062 & 0.201979 & $\\dots$ \\\\\n",
       "\t16 & 1.1068 & 1.1068 & -0.474342 & -0.474342 & -1.26491 & -0.474342 & 1.1068 & $\\dots$ \\\\\n",
       "\t17 & -1.01666 & -0.0484123 & -1.01666 & 1.1619 & -0.532535 & -0.532535 & 0.435711 & $\\dots$ \\\\\n",
       "\t18 & 0.191446 & 0.829599 & -2.36117 & 0.191446 & -1.08486 & 0.191446 & 0.829599 & $\\dots$ \\\\\n",
       "\t19 & -0.766131 & 0.766131 & -0.255377 & 0.766131 & -0.255377 & -1.27688 & 1.78764 & $\\dots$ \\\\\n",
       "\t20 & -0.203186 & -0.203186 & -1.01593 & 0.609557 & -1.82867 & -0.203186 & 0.609557 & $\\dots$ \\\\\n",
       "\\end{tabular}\n"
      ],
      "text/plain": [
       "\u001b[1m20×20 DataFrame\u001b[0m\n",
       "\u001b[1m Row \u001b[0m│\u001b[1m 1.0       \u001b[0m\u001b[1m 2.0         \u001b[0m\u001b[1m 3.0        \u001b[0m\u001b[1m 4.0       \u001b[0m\u001b[1m 5.0        \u001b[0m\u001b[1m 6.0         \u001b[0m\u001b[1m\u001b[0m ⋯\n",
       "\u001b[1m     \u001b[0m│\u001b[90m Float64   \u001b[0m\u001b[90m Float64     \u001b[0m\u001b[90m Float64    \u001b[0m\u001b[90m Float64   \u001b[0m\u001b[90m Float64    \u001b[0m\u001b[90m Float64     \u001b[0m\u001b[90m\u001b[0m ⋯\n",
       "─────┼──────────────────────────────────────────────────────────────────────────\n",
       "   1 │  0.12573   -0.132105     0.640423    0.1049    -0.535669    0.361595    ⋯\n",
       "   2 │ -0.504199   0.357955     0.414866   -1.24978    0.175539   -0.320363\n",
       "   3 │  0.937358   0.21877      0.339794    1.39214    0.31772     0.545022\n",
       "   4 │  0.135331   0.261963     0.7203     -0.553811  -1.29184    -1.6005\n",
       "   5 │ -1.23944    0.00437185   0.335725    1.19403    2.65828    -0.396796    ⋯\n",
       "   6 │ -0.613547   1.13328     -0.784445    0.119175  -0.284907    0.00117764\n",
       "   7 │  0.450715  -0.226007     0.66004    -1.7661    -0.100062    0.861031\n",
       "   8 │ -0.489866   0.541139    -0.336873    0.770053   0.983356    1.98303\n",
       "   9 │ -0.234397   1.84195      0.398938   -1.88541   -1.23653     1.51647     ⋯\n",
       "  10 │ -1.2167    -0.163417    -0.54922     2.28551    0.260751    2.20539\n",
       "  11 │  0.858116   0.858116    -2.00227    -0.572078  -0.572078    0.858116\n",
       "  12 │  0.404164   0.404164    -0.0212718  -0.446707  -0.0212718  -0.0212718\n",
       "  13 │ -1.73345    0.457652    -1.0243      1.48825    1.85842     0.761286    ⋯\n",
       "  14 │ -0.707107   2.12132     -0.707107    0.707107  -0.707107   -0.707107\n",
       "  15 │  0.201979   1.35615     -0.952187    0.779062  -1.81781     0.779062\n",
       "  16 │  1.1068     1.1068      -0.474342   -0.474342  -1.26491    -0.474342\n",
       "  17 │ -1.01666   -0.0484123   -1.01666     1.1619    -0.532535   -0.532535    ⋯\n",
       "  18 │  0.191446   0.829599    -2.36117     0.191446  -1.08486     0.191446\n",
       "  19 │ -0.766131   0.766131    -0.255377    0.766131  -0.255377   -1.27688\n",
       "  20 │ -0.203186  -0.203186    -1.01593     0.609557  -1.82867    -0.203186\n",
       "\u001b[36m                                                              14 columns omitted\u001b[0m"
      ]
     },
     "execution_count": 15,
     "metadata": {},
     "output_type": "execute_result"
    }
   ],
   "source": [
    "preference_df"
   ]
  },
  {
   "cell_type": "code",
   "execution_count": 41,
   "metadata": {},
   "outputs": [
    {
     "data": {
      "text/plain": [
       "5×5 Matrix{Float64}:\n",
       " 0.0  0.0  0.0  0.0  0.0\n",
       " 0.0  0.0  0.0  0.0  1.0\n",
       " 0.0  0.0  0.0  1.0  0.0\n",
       " 0.0  0.0  1.0  0.0  0.0\n",
       " 0.0  1.0  0.0  0.0  0.0"
      ]
     },
     "execution_count": 41,
     "metadata": {},
     "output_type": "execute_result"
    }
   ],
   "source": [
    "value.(z)"
   ]
  },
  {
   "cell_type": "code",
   "execution_count": 8,
   "metadata": {},
   "outputs": [
    {
     "data": {
      "text/plain": [
       "1×20 Matrix{Float64}:\n",
       " 1.0  1.0  1.0  1.0  1.0  0.0  1.0  1.0  …  1.0  1.0  1.0  1.0  0.0  1.0  1.0"
      ]
     },
     "execution_count": 8,
     "metadata": {},
     "output_type": "execute_result"
    }
   ],
   "source": [
    "zij = value.(z);\n",
    "\n",
    "sum(zij, dims=1)"
   ]
  },
  {
   "cell_type": "code",
   "execution_count": 9,
   "metadata": {},
   "outputs": [
    {
     "data": {
      "text/plain": [
       "\"z.csv\""
      ]
     },
     "execution_count": 9,
     "metadata": {},
     "output_type": "execute_result"
    }
   ],
   "source": [
    "CSV.write(\"z.csv\", Tables.table(zij))"
   ]
  },
  {
   "cell_type": "markdown",
   "metadata": {},
   "source": [
    "## Allow each person to pair with 2 people, no enforced closed groups"
   ]
  },
  {
   "cell_type": "code",
   "execution_count": 30,
   "metadata": {},
   "outputs": [],
   "source": [
    "preference_df = Matrix(df[1:20, 1:20]);\n",
    "preference_df[diagind(preference_df)] .= -RHO;\n",
    "\n",
    "people_df = people;"
   ]
  },
  {
   "cell_type": "code",
   "execution_count": 18,
   "metadata": {},
   "outputs": [
    {
     "name": "stdout",
     "output_type": "stream",
     "text": [
      "Gurobi Optimizer version 9.5.2 build v9.5.2rc0 (win64)\n",
      "Thread count: 4 physical cores, 8 logical processors, using up to 8 threads\n",
      "Optimize a model with 460 rows, 800 columns and 1100 nonzeros\n",
      "Model fingerprint: 0x7203e345\n",
      "Variable types: 0 continuous, 800 integer (800 binary)\n",
      "Coefficient statistics:\n",
      "  Matrix range     [1e+00, 1e+00]\n",
      "  Objective range  [8e-03, 5e+00]\n",
      "  Bounds range     [0e+00, 0e+00]\n",
      "  RHS range        [2e+00, 2e+00]\n",
      "Found heuristic solution: objective -10.0000000\n",
      "Presolve removed 452 rows and 780 columns\n",
      "Presolve time: 0.00s\n",
      "Presolved: 8 rows, 20 columns, 32 nonzeros\n",
      "Found heuristic solution: objective -23.6744312\n",
      "Variable types: 0 continuous, 20 integer (20 binary)\n",
      "Found heuristic solution: objective -24.7943220\n",
      "\n",
      "Root relaxation: cutoff, 4 iterations, 0.00 seconds (0.00 work units)\n",
      "\n",
      "    Nodes    |    Current Node    |     Objective Bounds      |     Work\n",
      " Expl Unexpl |  Obj  Depth IntInf | Incumbent    BestBd   Gap | It/Node Time\n",
      "\n",
      "     0     0     cutoff    0       -24.79432  -24.79432  0.00%     -    0s\n",
      "\n",
      "Explored 1 nodes (4 simplex iterations) in 0.00 seconds (0.00 work units)\n",
      "Thread count was 8 (of 8 available processors)\n",
      "\n",
      "Solution count 3: -24.7943 -23.6744 -10 \n",
      "No other solutions better than -24.7943\n",
      "\n",
      "Optimal solution found (tolerance 1.00e-04)\n",
      "Best objective -2.479432200168e+01, best bound -2.479432200168e+01, gap 0.0000%\n",
      "\n",
      "User-callback calls 250, time in user-callback 0.00 sec\n"
     ]
    }
   ],
   "source": [
    "m2 = Model(() -> Gurobi.Optimizer(GRB_ENV))\n",
    "\n",
    "# Create variables\n",
    "@variable(m2, z[1:size(preference_df, 1), 1:size(preference_df, 2)], Bin)\n",
    "@variable(m2, t[1:size(preference_df, 1), 1:size(preference_df, 2)], Bin)\n",
    "\n",
    "# Create objective\n",
    "@objective(m2, Min, -1 * sum(z[i,j] * (preference_df[i,j] + preference_df[j,i]) for i in 1:size(preference_df, 1), j in i:size(preference_df, 1)) + (size(preference_df, 1) - sum(z)) * RHO)\n",
    "\n",
    "# Create constraints\n",
    "\n",
    "# Each person can only be matched with two people\n",
    "@constraint(m2, [i=1:size(preference_df, 1)], sum(z[i,j] for j in i:size(preference_df, 1)) <= 2)\n",
    "@constraint(m2, [j=1:size(preference_df, 1)], sum(z[i,j] for i in 1:size(preference_df, 1)) <= 2)\n",
    "\n",
    "#@constraint(m1, [k=1:size(preference_df, 1)], sum(z[i,j,k] for i in 1:size(preference_df, 1) for j in 1:size(preference_df, 1)) <= 2)\n",
    "\n",
    "#religion_df = Matrix(people_df[:, [:agnostic, :atheist, :buddhist, :catholic, :hindu, :jewish, :mormon, :muslim, :protestant, :unaffiliated]])\n",
    "\n",
    "for i in 1:size(z, 1)\n",
    "    for j in i:size(z, 1)\n",
    "\n",
    "        # Make sure that if i is matched with j, then j is matched with i\n",
    "        @constraint(m2, z[i,j] == z[j, i])\n",
    "\n",
    "        # Different gender matching\n",
    "        @constraint(m2, (people_df[i, :gender] + people_df[j, :gender] - 1) * z[i,j] ==0 ) \n",
    "\n",
    "        # People with strong religious preferences are matched with someone sharing the same religious preference\n",
    "        # @constraint(m1, (1 - sum(religion_df[i, k] * religion_df[j, k] for k in 1:size(religion_df)[2])) * t[i,j] * z[i,j] <= 0)\n",
    "        # @constraint(m1, t[i,j] >= people_df[i, :imprelig])\n",
    "        # @constraint(m1, t[i,j] >= people_df[j, :imprelig])\n",
    "    end\n",
    "end\n",
    "\n",
    "# for i in 1:size(z, 1)\n",
    "#     for j in i:size(z, 2)\n",
    "#         @constraint(m1, z[j,i,j] ==0)\n",
    "#         @constraint(m1, z[j,j,i] ==0)\n",
    "#         for k in j:size(z, 3)\n",
    "#             @constraint(m1, z[i,k,j] ==0)\n",
    "#             @constraint(m1, z[j,k,i] ==0)\n",
    "#             @constraint(m1, z[k,i,j] ==0)\n",
    "#             @constraint(m1, z[k,j,i] ==0)\n",
    "#             @constraint(m1, z[j,i,k] ==0)\n",
    "#         end\n",
    "#     end\n",
    "# end\n",
    "\n",
    "optimize!(m2)"
   ]
  },
  {
   "cell_type": "code",
   "execution_count": null,
   "metadata": {},
   "outputs": [],
   "source": [
    "zij = value.(z);"
   ]
  },
  {
   "cell_type": "code",
   "execution_count": 152,
   "metadata": {},
   "outputs": [
    {
     "data": {
      "text/plain": [
       "15.0"
      ]
     },
     "execution_count": 152,
     "metadata": {},
     "output_type": "execute_result"
    }
   ],
   "source": [
    "sum(zij)"
   ]
  },
  {
   "cell_type": "code",
   "execution_count": 23,
   "metadata": {},
   "outputs": [
    {
     "data": {
      "text/plain": [
       "\"z2.csv\""
      ]
     },
     "execution_count": 23,
     "metadata": {},
     "output_type": "execute_result"
    }
   ],
   "source": [
    "CSV.write(\"z2.csv\", Tables.table(zij))"
   ]
  },
  {
   "cell_type": "markdown",
   "metadata": {},
   "source": [
    "### Requiring closed groups."
   ]
  },
  {
   "cell_type": "code",
   "execution_count": 143,
   "metadata": {},
   "outputs": [],
   "source": [
    "# preference_df = Matrix(df[1:10, 1:10]);\n",
    "# preference_df[diagind(preference_df)] .= -RHO;\n",
    "\n",
    "# people_df = people;"
   ]
  },
  {
   "cell_type": "code",
   "execution_count": 115,
   "metadata": {},
   "outputs": [
    {
     "name": "stdout",
     "output_type": "stream",
     "text": [
      "Gurobi Optimizer version 9.5.2 build v9.5.2rc0 (win64)\n",
      "Thread count: 4 physical cores, 8 logical processors, using up to 8 threads\n",
      "Optimize a model with 85 rows, 200 columns and 255 nonzeros\n",
      "Model fingerprint: 0xaaebc4de\n",
      "Variable types: 0 continuous, 200 integer (200 binary)\n",
      "Coefficient statistics:\n",
      "  Matrix range     [1e+00, 1e+00]\n",
      "  Objective range  [1e-01, 3e+00]\n",
      "  Bounds range     [0e+00, 0e+00]\n",
      "  RHS range        [2e+00, 2e+00]\n",
      "Found heuristic solution: objective 0.0000000\n",
      "Presolve removed 75 rows and 174 columns\n",
      "Presolve time: 0.00s\n",
      "Presolved: 10 rows, 26 columns, 52 nonzeros\n",
      "Variable types: 0 continuous, 26 integer (26 binary)\n",
      "Found heuristic solution: objective -15.9252976\n",
      "\n",
      "Root relaxation: objective -1.768192e+01, 8 iterations, 0.00 seconds (0.00 work units)\n",
      "\n",
      "    Nodes    |    Current Node    |     Objective Bounds      |     Work\n",
      " Expl Unexpl |  Obj  Depth IntInf | Incumbent    BestBd   Gap | It/Node Time\n",
      "\n",
      "*    0     0               0     -17.6819172  -17.68192  0.00%     -    0s\n",
      "\n",
      "Explored 1 nodes (8 simplex iterations) in 0.00 seconds (0.00 work units)\n",
      "Thread count was 8 (of 8 available processors)\n",
      "\n",
      "Solution count 3: -17.6819 -15.9253 0 \n",
      "No other solutions better than -17.6819\n",
      "\n",
      "Optimal solution found (tolerance 1.00e-04)\n",
      "Best objective -1.768191716854e+01, best bound -1.768191716854e+01, gap 0.0000%\n",
      "\n",
      "User-callback calls 222, time in user-callback 0.00 sec\n"
     ]
    }
   ],
   "source": [
    "# m2 = Model(() -> Gurobi.Optimizer(GRB_ENV))\n",
    "\n",
    "# # Create variables\n",
    "# @variable(m2, z[1:size(preference_df, 1), 1:size(preference_df, 2)], Bin)\n",
    "# @variable(m2, t[1:size(preference_df, 1), 1:size(preference_df, 2)], Bin)\n",
    "\n",
    "# # Create objective\n",
    "# @objective(m2, Min, -1 * sum(z[i,j] * (preference_df[i,j] + preference_df[j,i]) for i in 1:size(preference_df, 1), j in i:size(preference_df, 1)) )#+ (size(preference_df, 1) - sum(z)) * -RHO)\n",
    "\n",
    "# # Create constraints\n",
    "\n",
    "# # Each person can only be matched with two people\n",
    "# @constraint(m2, [i=1:size(preference_df, 1)], sum(z[i,j] for j in i:size(preference_df, 1)) <= 2)\n",
    "# @constraint(m2, [j=1:size(preference_df, 1)], sum(z[i,j] for i in 1:size(preference_df, 1)) <= 2)\n",
    "\n",
    "\n",
    "# #@constraint(m1, [k=1:size(preference_df, 1)], sum(z[i,j,k] for i in 1:size(preference_df, 1) for j in 1:size(preference_df, 1)) <= 2)\n",
    "\n",
    "# #religion_df = Matrix(people_df[:, [:agnostic, :atheist, :buddhist, :catholic, :hindu, :jewish, :mormon, :muslim, :protestant, :unaffiliated]])\n",
    "\n",
    "# for i in 1:size(z, 1)\n",
    "#     for j in i:size(z, 1)\n",
    "\n",
    "#         # Make sure that if i is matched with j, then j is matched with i\n",
    "#         @constraint(m2, z[i,j] == z[j, i])\n",
    "\n",
    "#         # Different gender matching\n",
    "#         #@constraint(m2, (people_df[i, :gender] + people_df[j, :gender] - 1) * z[i,j] ==0 )\n",
    "        \n",
    "\n",
    "#         # People with strong religious preferences are matched with someone sharing the same religious preference\n",
    "#         # @constraint(m1, (1 - sum(religion_df[i, k] * religion_df[j, k] for k in 1:size(religion_df)[2])) * t[i,j] * z[i,j] <= 0)\n",
    "#         # @constraint(m1, t[i,j] >= people_df[i, :imprelig])\n",
    "#         # @constraint(m1, t[i,j] >= people_df[j, :imprelig])\n",
    "#     end\n",
    "#     @constraint(m2, z[i,i] ==0)\n",
    "# end\n",
    "\n",
    "# # for i in 1:size(z, 1)\n",
    "# #     for j in i:size(z, 2)\n",
    "# #         @constraint(m1, z[j,i,j] ==0)\n",
    "# #         @constraint(m1, z[j,j,i] ==0)\n",
    "# #         for k in j:size(z, 3)\n",
    "# #             @constraint(m1, z[i,k,j] ==0)\n",
    "# #             @constraint(m1, z[j,k,i] ==0)\n",
    "# #             @constraint(m1, z[k,i,j] ==0)\n",
    "# #             @constraint(m1, z[k,j,i] ==0)\n",
    "# #             @constraint(m1, z[j,i,k] ==0)\n",
    "# #         end\n",
    "# #     end\n",
    "# # end\n",
    "\n",
    "# optimize!(m2)"
   ]
  },
  {
   "cell_type": "code",
   "execution_count": 116,
   "metadata": {},
   "outputs": [
    {
     "data": {
      "text/plain": [
       "10×10 Matrix{Float64}:\n",
       "  0.0   0.0  -0.0   1.0   0.0   0.0   1.0  -0.0   0.0   0.0\n",
       "  0.0   0.0  -0.0   0.0   0.0   1.0   0.0   0.0   1.0   0.0\n",
       " -0.0  -0.0   0.0   1.0  -0.0   0.0   1.0  -0.0  -0.0   0.0\n",
       "  1.0   0.0   1.0   0.0   0.0   0.0   0.0  -0.0   0.0   0.0\n",
       "  0.0   0.0  -0.0   0.0   0.0   0.0   0.0   1.0   0.0   1.0\n",
       "  0.0   1.0   0.0   0.0   0.0   0.0  -0.0   1.0  -0.0   0.0\n",
       "  1.0   0.0   1.0   0.0   0.0  -0.0   0.0   0.0  -0.0  -0.0\n",
       " -0.0   0.0  -0.0  -0.0   1.0   1.0   0.0   0.0  -0.0   0.0\n",
       "  0.0   1.0  -0.0   0.0   0.0  -0.0  -0.0  -0.0   0.0   1.0\n",
       "  0.0   0.0   0.0   0.0   1.0   0.0  -0.0   0.0   1.0   0.0"
      ]
     },
     "execution_count": 116,
     "metadata": {},
     "output_type": "execute_result"
    }
   ],
   "source": [
    "zij = value.(z)"
   ]
  },
  {
   "cell_type": "code",
   "execution_count": 57,
   "metadata": {},
   "outputs": [],
   "source": [
    "RHO=1\n",
    "preference_df = Matrix(df);\n",
    "preference_df[diagind(preference_df)] .= -RHO;\n",
    "\n",
    "people_df = people;"
   ]
  },
  {
   "cell_type": "code",
   "execution_count": 58,
   "metadata": {},
   "outputs": [],
   "source": [
    "m3 = Model(() -> Gurobi.Optimizer(GRB_ENV))\n",
    "\n",
    "# Create variables\n",
    "@variable(m3, z[1:size(preference_df, 1), 1:size(preference_df, 1), 1:size(preference_df, 1)], Bin)\n",
    "@variable(m3, t[1:size(preference_df, 1), 1:size(preference_df, 1), 1:size(preference_df, 1)], Bin)\n",
    "\n",
    "# Create objective\n",
    "#@objective(m3, Min, -1 * sum(z[i,j,k] * (preference_df[i,j] + preference_df[j,i] + preference_df[j,k] + preference_df[k,j] + preference_df[i,k] + preference_df[k,i]) for i in 1:size(preference_df, 1), j in 1:size(preference_df, 1), k in 1:size(preference_df, 1)) )\n",
    "@objective(m3, Min, -1 * sum(z[i,j,k] * (preference_df[i,j] + preference_df[j,i] + preference_df[j,k] + preference_df[k,j] + preference_df[i,k] + preference_df[k,i]) for i in 1:size(preference_df, 1), j in i:size(preference_df, 1), k in j+1:size(preference_df, 1)) +\n",
    "    (fld(size(preference_df, 1), 3) + size(preference_df, 1)%3 - sum(z)) * RHO)\n",
    "\n",
    "# Create constraints\n",
    "\n",
    "# Each person can only be matched with two people\n",
    "@constraint(m3, [i=1:size(preference_df, 1)], sum(z[i,j,k] for j in 1:size(preference_df, 1), k in 1:size(preference_df, 1)) <= 2)\n",
    "@constraint(m3, [j=1:size(preference_df, 1)], sum(z[i,j,k] for i in 1:size(preference_df, 1), k in 1:size(preference_df, 1)) <= 2)\n",
    "@constraint(m3, [k=1:size(preference_df, 1)], sum(z[i,j,k] for i in 1:size(preference_df, 1), j in 1:size(preference_df, 1)) <= 2)\n",
    "\n",
    "#@constraint(m3, [i=1:size(preference_df, 1)], sum(z[i,k,k] for k in 1:size(preference_df, 1)) <= 1)\n",
    "#@constraint(m3, [k=1:size(preference_df, 1)], sum(z[k,j,k] for j in 1:size(preference_df, 1)) == 0)\n",
    "#@constraint(m3, [k=1:size(preference_df, 1)], sum(z[i,k,k] for i in 1:size(preference_df, 1)) == 0)\n",
    "\n",
    "#@constraint(m1, [k=1:size(preference_df, 1)], sum(z[i,j,k] for i in 1:size(preference_df, 1) for j in 1:size(preference_df, 1)) <= 2)\n",
    "\n",
    "#religion_df = Matrix(people_df[:, [:agnostic, :atheist, :buddhist, :catholic, :hindu, :jewish, :mormon, :muslim, :protestant, :unaffiliated]])\n",
    "\n",
    "for i in 1:size(z, 1)\n",
    "    for j in i:size(z, 1)\n",
    "        for k in j:size(z, 3)\n",
    "\n",
    "            # Make sure that if i is matched with j, then j is matched with i\n",
    "            @constraint(m3, z[i,j, k] == z[j,i,k])\n",
    "            @constraint(m3, z[i,j, k] == z[j,k,i])\n",
    "            @constraint(m3, z[i,j, k] == z[k,j,i])\n",
    "            @constraint(m3, z[i,j, k] == z[k,i,j])\n",
    "            @constraint(m3, z[i,j, k] == z[i,k,j])\n",
    "\n",
    "            # Different gender matching. >1 girl > 1 guy\n",
    "            @constraint(m3, (people_df[i, :gender] + people_df[j, :gender] + people_df[k, :gender] - 2) * z[i,j,k] <=0 )\n",
    "            @constraint(m3, (people_df[i, :gender] + people_df[j, :gender] + people_df[k, :gender] - 1) * z[i,j,k] >=0 )\n",
    "\n",
    "            # People with strong religious preferences are matched with someone sharing the same religious preference\n",
    "            # @constraint(m1, (1 - sum(religion_df[i, k] * religion_df[j, k] for k in 1:size(religion_df)[2])) * t[i,j] * z[i,j] <= 0)\n",
    "            # @constraint(m1, t[i,j] >= people_df[i, :imprelig])\n",
    "            # @constraint(m1, t[i,j] >= people_df[j, :imprelig])\n",
    "        end\n",
    "    end\n",
    "end\n",
    "\n",
    "optimize!(m3)"
   ]
  },
  {
   "cell_type": "code",
   "execution_count": 56,
   "metadata": {},
   "outputs": [
    {
     "data": {
      "text/plain": [
       "100×100×100 Array{Float64, 3}:\n",
       "[:, :, 1] =\n",
       " 0.0  0.0  0.0  0.0  0.0  0.0  0.0  0.0  …  0.0  0.0  0.0  0.0  0.0  0.0  0.0\n",
       " 0.0  0.0  0.0  0.0  0.0  0.0  0.0  0.0     0.0  0.0  0.0  0.0  0.0  0.0  0.0\n",
       " 0.0  0.0  0.0  0.0  0.0  0.0  0.0  0.0     0.0  0.0  0.0  0.0  0.0  0.0  0.0\n",
       " 0.0  0.0  0.0  0.0  0.0  0.0  0.0  0.0     0.0  0.0  0.0  0.0  0.0  0.0  0.0\n",
       " 0.0  0.0  0.0  0.0  0.0  0.0  0.0  0.0     0.0  0.0  0.0  0.0  0.0  0.0  0.0\n",
       " 0.0  0.0  0.0  0.0  0.0  0.0  0.0  0.0  …  0.0  0.0  0.0  0.0  0.0  0.0  0.0\n",
       " 0.0  0.0  0.0  0.0  0.0  0.0  0.0  0.0     0.0  0.0  0.0  0.0  0.0  0.0  0.0\n",
       " 0.0  0.0  0.0  0.0  0.0  0.0  0.0  0.0     0.0  0.0  0.0  0.0  0.0  0.0  0.0\n",
       " 0.0  0.0  0.0  0.0  0.0  0.0  0.0  0.0     0.0  0.0  0.0  0.0  0.0  0.0  0.0\n",
       " 0.0  0.0  0.0  0.0  0.0  0.0  0.0  0.0     0.0  0.0  0.0  0.0  0.0  0.0  0.0\n",
       " 0.0  0.0  0.0  0.0  0.0  0.0  0.0  0.0  …  0.0  0.0  0.0  0.0  0.0  0.0  0.0\n",
       " 0.0  0.0  0.0  0.0  0.0  0.0  0.0  0.0     0.0  0.0  0.0  0.0  0.0  0.0  0.0\n",
       " 0.0  0.0  0.0  0.0  0.0  0.0  0.0  0.0     0.0  0.0  0.0  0.0  0.0  0.0  0.0\n",
       " ⋮                        ⋮              ⋱            ⋮                   \n",
       " 0.0  0.0  0.0  0.0  0.0  0.0  0.0  0.0     0.0  0.0  0.0  0.0  0.0  0.0  0.0\n",
       " 0.0  0.0  0.0  0.0  0.0  0.0  0.0  0.0     0.0  0.0  0.0  0.0  0.0  0.0  0.0\n",
       " 0.0  0.0  0.0  0.0  0.0  0.0  0.0  0.0  …  0.0  0.0  0.0  0.0  0.0  0.0  0.0\n",
       " 0.0  0.0  0.0  0.0  0.0  0.0  0.0  0.0     0.0  0.0  0.0  0.0  0.0  0.0  0.0\n",
       " 0.0  0.0  0.0  0.0  0.0  0.0  0.0  0.0     0.0  0.0  0.0  0.0  0.0  0.0  0.0\n",
       " 0.0  0.0  0.0  0.0  0.0  0.0  0.0  0.0     0.0  0.0  0.0  0.0  0.0  0.0  0.0\n",
       " 0.0  0.0  0.0  0.0  0.0  0.0  0.0  0.0     0.0  0.0  0.0  0.0  0.0  0.0  0.0\n",
       " 0.0  0.0  0.0  0.0  0.0  0.0  0.0  0.0  …  0.0  0.0  0.0  0.0  0.0  0.0  0.0\n",
       " 0.0  0.0  0.0  0.0  0.0  0.0  0.0  0.0     0.0  0.0  0.0  0.0  0.0  0.0  0.0\n",
       " 0.0  0.0  0.0  0.0  0.0  0.0  0.0  0.0     0.0  0.0  0.0  0.0  0.0  0.0  0.0\n",
       " 0.0  0.0  0.0  0.0  0.0  0.0  0.0  0.0     0.0  0.0  0.0  0.0  0.0  0.0  0.0\n",
       " 0.0  0.0  0.0  0.0  0.0  0.0  0.0  0.0     0.0  0.0  0.0  0.0  0.0  0.0  0.0\n",
       "\n",
       "[:, :, 2] =\n",
       " 0.0  0.0  0.0  0.0  0.0  0.0  0.0  0.0  …  0.0  0.0  0.0  0.0  0.0  0.0  0.0\n",
       " 0.0  0.0  0.0  0.0  0.0  0.0  0.0  0.0     0.0  0.0  0.0  0.0  0.0  0.0  0.0\n",
       " 0.0  0.0  0.0  0.0  0.0  0.0  0.0  0.0     0.0  0.0  0.0  0.0  0.0  0.0  0.0\n",
       " 0.0  0.0  0.0  0.0  0.0  0.0  0.0  0.0     0.0  0.0  0.0  0.0  0.0  0.0  0.0\n",
       " 0.0  0.0  0.0  0.0  0.0  0.0  0.0  0.0     0.0  0.0  0.0  0.0  0.0  0.0  0.0\n",
       " 0.0  0.0  0.0  0.0  0.0  0.0  0.0  0.0  …  0.0  0.0  0.0  0.0  0.0  0.0  0.0\n",
       " 0.0  0.0  0.0  0.0  0.0  0.0  0.0  0.0     0.0  0.0  0.0  0.0  0.0  0.0  0.0\n",
       " 0.0  0.0  0.0  0.0  0.0  0.0  0.0  0.0     0.0  0.0  0.0  0.0  0.0  0.0  0.0\n",
       " 0.0  0.0  0.0  0.0  0.0  0.0  0.0  0.0     0.0  0.0  0.0  0.0  0.0  0.0  0.0\n",
       " 0.0  0.0  0.0  0.0  0.0  0.0  0.0  0.0     0.0  0.0  0.0  0.0  0.0  0.0  0.0\n",
       " 0.0  0.0  0.0  0.0  0.0  0.0  0.0  0.0  …  0.0  0.0  0.0  0.0  0.0  0.0  0.0\n",
       " 0.0  0.0  0.0  0.0  0.0  0.0  0.0  0.0     0.0  0.0  0.0  0.0  0.0  0.0  0.0\n",
       " 0.0  0.0  0.0  0.0  0.0  0.0  0.0  0.0     0.0  0.0  0.0  0.0  0.0  0.0  0.0\n",
       " ⋮                        ⋮              ⋱            ⋮                   \n",
       " 0.0  0.0  0.0  0.0  0.0  0.0  0.0  0.0     0.0  0.0  0.0  0.0  0.0  0.0  0.0\n",
       " 0.0  0.0  0.0  0.0  0.0  0.0  0.0  0.0     0.0  0.0  0.0  0.0  0.0  0.0  0.0\n",
       " 0.0  0.0  0.0  0.0  0.0  0.0  0.0  0.0  …  0.0  0.0  0.0  0.0  0.0  0.0  0.0\n",
       " 0.0  0.0  0.0  0.0  0.0  0.0  0.0  0.0     0.0  0.0  0.0  0.0  0.0  0.0  0.0\n",
       " 0.0  0.0  0.0  0.0  0.0  0.0  0.0  0.0     0.0  0.0  0.0  0.0  0.0  0.0  0.0\n",
       " 0.0  0.0  0.0  0.0  0.0  0.0  0.0  0.0     0.0  0.0  0.0  0.0  0.0  0.0  0.0\n",
       " 0.0  0.0  0.0  0.0  0.0  0.0  0.0  0.0     0.0  0.0  0.0  0.0  0.0  0.0  0.0\n",
       " 0.0  0.0  0.0  0.0  0.0  0.0  0.0  0.0  …  0.0  0.0  0.0  0.0  0.0  0.0  0.0\n",
       " 0.0  0.0  0.0  0.0  0.0  0.0  0.0  0.0     0.0  0.0  0.0  0.0  0.0  0.0  0.0\n",
       " 0.0  0.0  0.0  0.0  0.0  0.0  0.0  0.0     0.0  0.0  0.0  0.0  0.0  0.0  0.0\n",
       " 0.0  0.0  0.0  0.0  0.0  0.0  0.0  0.0     0.0  0.0  0.0  0.0  0.0  0.0  0.0\n",
       " 0.0  0.0  0.0  0.0  0.0  0.0  0.0  0.0     0.0  0.0  0.0  0.0  0.0  0.0  0.0\n",
       "\n",
       "[:, :, 3] =\n",
       " 0.0  0.0  0.0  0.0  0.0  0.0  0.0  0.0  …  0.0  0.0  0.0  0.0  0.0  0.0  0.0\n",
       " 0.0  0.0  0.0  0.0  0.0  0.0  0.0  0.0     0.0  0.0  0.0  0.0  0.0  0.0  0.0\n",
       " 0.0  0.0  0.0  0.0  0.0  0.0  0.0  0.0     0.0  0.0  0.0  0.0  0.0  0.0  0.0\n",
       " 0.0  0.0  0.0  0.0  0.0  0.0  0.0  0.0     0.0  0.0  0.0  0.0  0.0  0.0  0.0\n",
       " 0.0  0.0  0.0  0.0  0.0  0.0  0.0  0.0     0.0  0.0  0.0  0.0  0.0  0.0  0.0\n",
       " 0.0  0.0  0.0  0.0  0.0  0.0  0.0  0.0  …  0.0  0.0  0.0  0.0  0.0  0.0  0.0\n",
       " 0.0  0.0  0.0  0.0  0.0  0.0  0.0  0.0     0.0  0.0  0.0  0.0  0.0  0.0  0.0\n",
       " 0.0  0.0  0.0  0.0  0.0  0.0  0.0  0.0     0.0  0.0  0.0  0.0  0.0  0.0  0.0\n",
       " 0.0  0.0  0.0  0.0  0.0  0.0  0.0  0.0     0.0  0.0  0.0  0.0  0.0  0.0  0.0\n",
       " 0.0  0.0  0.0  0.0  0.0  0.0  0.0  0.0     0.0  0.0  0.0  0.0  0.0  0.0  0.0\n",
       " 0.0  0.0  0.0  0.0  0.0  0.0  0.0  0.0  …  0.0  0.0  0.0  0.0  0.0  0.0  0.0\n",
       " 0.0  0.0  0.0  0.0  0.0  0.0  0.0  0.0     0.0  0.0  0.0  0.0  0.0  0.0  0.0\n",
       " 0.0  0.0  0.0  0.0  0.0  0.0  0.0  0.0     0.0  0.0  0.0  0.0  0.0  0.0  0.0\n",
       " ⋮                        ⋮              ⋱            ⋮                   \n",
       " 0.0  0.0  0.0  0.0  0.0  0.0  0.0  0.0     0.0  0.0  0.0  0.0  0.0  0.0  0.0\n",
       " 0.0  0.0  0.0  0.0  0.0  0.0  0.0  0.0     0.0  0.0  0.0  0.0  0.0  0.0  0.0\n",
       " 0.0  0.0  0.0  0.0  0.0  0.0  0.0  0.0  …  0.0  0.0  0.0  0.0  0.0  0.0  0.0\n",
       " 0.0  0.0  0.0  0.0  0.0  0.0  0.0  0.0     0.0  0.0  0.0  0.0  0.0  0.0  0.0\n",
       " 0.0  0.0  0.0  0.0  0.0  0.0  0.0  0.0     0.0  0.0  0.0  0.0  0.0  0.0  0.0\n",
       " 0.0  0.0  0.0  0.0  0.0  0.0  0.0  0.0     0.0  0.0  0.0  0.0  0.0  0.0  0.0\n",
       " 0.0  0.0  0.0  0.0  0.0  0.0  0.0  0.0     0.0  0.0  0.0  0.0  0.0  0.0  0.0\n",
       " 0.0  0.0  0.0  0.0  0.0  0.0  0.0  0.0  …  0.0  0.0  0.0  0.0  0.0  0.0  0.0\n",
       " 0.0  0.0  0.0  0.0  0.0  0.0  0.0  0.0     0.0  0.0  0.0  0.0  0.0  0.0  0.0\n",
       " 0.0  0.0  0.0  0.0  0.0  0.0  0.0  0.0     0.0  0.0  0.0  0.0  0.0  0.0  0.0\n",
       " 0.0  0.0  0.0  0.0  0.0  0.0  0.0  0.0     0.0  0.0  0.0  0.0  0.0  0.0  0.0\n",
       " 0.0  0.0  0.0  0.0  0.0  0.0  0.0  0.0     0.0  0.0  0.0  0.0  0.0  0.0  0.0\n",
       "\n",
       ";;; … \n",
       "\n",
       "[:, :, 98] =\n",
       " 0.0  0.0  0.0  0.0  0.0  0.0  0.0  0.0  …  0.0  0.0  0.0  0.0  0.0  0.0  0.0\n",
       " 0.0  0.0  0.0  0.0  0.0  0.0  0.0  0.0     0.0  0.0  0.0  0.0  0.0  0.0  0.0\n",
       " 0.0  0.0  0.0  0.0  0.0  0.0  0.0  0.0     0.0  0.0  0.0  0.0  0.0  0.0  0.0\n",
       " 0.0  0.0  0.0  0.0  0.0  0.0  0.0  0.0     0.0  0.0  0.0  0.0  0.0  0.0  0.0\n",
       " 0.0  0.0  0.0  0.0  0.0  0.0  0.0  0.0     0.0  0.0  0.0  0.0  0.0  0.0  0.0\n",
       " 0.0  0.0  0.0  0.0  0.0  0.0  0.0  0.0  …  0.0  0.0  0.0  0.0  0.0  0.0  0.0\n",
       " 0.0  0.0  0.0  0.0  0.0  0.0  0.0  0.0     0.0  0.0  0.0  0.0  0.0  0.0  0.0\n",
       " 0.0  0.0  0.0  0.0  0.0  0.0  0.0  0.0     0.0  0.0  0.0  0.0  0.0  0.0  0.0\n",
       " 0.0  0.0  0.0  0.0  0.0  0.0  0.0  0.0     0.0  0.0  0.0  0.0  0.0  0.0  0.0\n",
       " 0.0  0.0  0.0  0.0  0.0  0.0  0.0  0.0     0.0  0.0  0.0  0.0  0.0  0.0  0.0\n",
       " 0.0  0.0  0.0  0.0  0.0  0.0  0.0  0.0  …  0.0  0.0  0.0  0.0  0.0  0.0  0.0\n",
       " 0.0  0.0  0.0  0.0  0.0  0.0  0.0  0.0     0.0  0.0  0.0  0.0  0.0  0.0  0.0\n",
       " 0.0  0.0  0.0  0.0  0.0  0.0  0.0  0.0     0.0  0.0  0.0  0.0  0.0  0.0  0.0\n",
       " ⋮                        ⋮              ⋱            ⋮                   \n",
       " 0.0  0.0  0.0  0.0  0.0  0.0  0.0  0.0     0.0  0.0  0.0  0.0  0.0  0.0  0.0\n",
       " 0.0  0.0  0.0  0.0  0.0  0.0  0.0  0.0     0.0  0.0  0.0  0.0  0.0  0.0  0.0\n",
       " 0.0  0.0  0.0  0.0  0.0  0.0  0.0  0.0  …  0.0  0.0  0.0  0.0  0.0  0.0  0.0\n",
       " 0.0  0.0  0.0  0.0  0.0  0.0  0.0  0.0     0.0  0.0  0.0  0.0  0.0  0.0  0.0\n",
       " 0.0  0.0  0.0  0.0  0.0  0.0  0.0  0.0     0.0  0.0  0.0  0.0  0.0  0.0  0.0\n",
       " 0.0  0.0  0.0  0.0  0.0  0.0  0.0  0.0     0.0  0.0  0.0  0.0  0.0  0.0  0.0\n",
       " 0.0  0.0  0.0  0.0  0.0  0.0  0.0  0.0     0.0  0.0  0.0  0.0  0.0  0.0  0.0\n",
       " 0.0  0.0  0.0  0.0  0.0  0.0  0.0  0.0  …  0.0  0.0  0.0  0.0  0.0  0.0  0.0\n",
       " 0.0  0.0  0.0  0.0  0.0  0.0  0.0  0.0     0.0  0.0  0.0  0.0  0.0  0.0  0.0\n",
       " 0.0  0.0  0.0  0.0  0.0  0.0  0.0  0.0     0.0  0.0  0.0  0.0  0.0  0.0  0.0\n",
       " 0.0  0.0  0.0  0.0  0.0  0.0  0.0  0.0     0.0  0.0  0.0  0.0  0.0  0.0  0.0\n",
       " 0.0  0.0  0.0  0.0  0.0  0.0  0.0  0.0     0.0  0.0  0.0  0.0  0.0  0.0  0.0\n",
       "\n",
       "[:, :, 99] =\n",
       " 0.0  0.0  0.0  0.0  0.0  0.0  0.0  0.0  …  0.0  0.0  0.0  0.0  0.0  0.0  0.0\n",
       " 0.0  0.0  0.0  0.0  0.0  0.0  0.0  0.0     0.0  0.0  0.0  0.0  0.0  0.0  0.0\n",
       " 0.0  0.0  0.0  0.0  0.0  0.0  0.0  0.0     0.0  0.0  0.0  0.0  0.0  0.0  0.0\n",
       " 0.0  0.0  0.0  0.0  0.0  0.0  0.0  0.0     0.0  0.0  0.0  0.0  0.0  0.0  0.0\n",
       " 0.0  0.0  0.0  0.0  0.0  0.0  0.0  0.0     0.0  0.0  0.0  0.0  0.0  0.0  0.0\n",
       " 0.0  0.0  0.0  0.0  0.0  0.0  0.0  0.0  …  0.0  0.0  0.0  0.0  0.0  0.0  0.0\n",
       " 0.0  0.0  0.0  0.0  0.0  0.0  0.0  0.0     0.0  0.0  0.0  0.0  0.0  0.0  0.0\n",
       " 0.0  0.0  0.0  0.0  0.0  0.0  0.0  0.0     0.0  0.0  0.0  0.0  0.0  0.0  0.0\n",
       " 0.0  0.0  0.0  0.0  0.0  0.0  0.0  0.0     0.0  0.0  0.0  0.0  0.0  0.0  0.0\n",
       " 0.0  0.0  0.0  0.0  0.0  0.0  0.0  0.0     0.0  0.0  0.0  0.0  0.0  0.0  0.0\n",
       " 0.0  0.0  0.0  0.0  0.0  0.0  0.0  0.0  …  0.0  0.0  0.0  0.0  0.0  0.0  0.0\n",
       " 0.0  0.0  0.0  0.0  0.0  0.0  0.0  0.0     0.0  0.0  0.0  0.0  0.0  0.0  0.0\n",
       " 0.0  0.0  0.0  0.0  0.0  0.0  0.0  0.0     0.0  0.0  0.0  0.0  0.0  0.0  0.0\n",
       " ⋮                        ⋮              ⋱            ⋮                   \n",
       " 0.0  0.0  0.0  0.0  0.0  0.0  0.0  0.0     0.0  0.0  0.0  0.0  0.0  0.0  0.0\n",
       " 0.0  0.0  0.0  0.0  0.0  0.0  0.0  0.0     0.0  0.0  0.0  0.0  0.0  0.0  0.0\n",
       " 0.0  0.0  0.0  0.0  0.0  0.0  0.0  0.0  …  0.0  0.0  0.0  0.0  0.0  0.0  0.0\n",
       " 0.0  0.0  0.0  0.0  0.0  0.0  0.0  0.0     0.0  0.0  0.0  0.0  0.0  0.0  0.0\n",
       " 0.0  0.0  0.0  0.0  0.0  0.0  0.0  0.0     0.0  0.0  0.0  0.0  0.0  0.0  0.0\n",
       " 0.0  0.0  0.0  0.0  0.0  0.0  0.0  0.0     0.0  0.0  0.0  0.0  0.0  0.0  0.0\n",
       " 0.0  0.0  0.0  0.0  0.0  0.0  0.0  0.0     0.0  0.0  0.0  0.0  0.0  0.0  0.0\n",
       " 0.0  0.0  0.0  0.0  0.0  0.0  0.0  0.0  …  0.0  0.0  0.0  0.0  0.0  0.0  0.0\n",
       " 0.0  0.0  0.0  0.0  0.0  0.0  0.0  0.0     0.0  0.0  0.0  0.0  0.0  0.0  0.0\n",
       " 0.0  0.0  0.0  0.0  0.0  0.0  0.0  0.0     0.0  0.0  0.0  0.0  0.0  0.0  0.0\n",
       " 0.0  0.0  0.0  0.0  0.0  0.0  0.0  0.0     0.0  0.0  0.0  0.0  0.0  0.0  0.0\n",
       " 0.0  0.0  0.0  0.0  0.0  0.0  0.0  0.0     0.0  0.0  0.0  0.0  0.0  0.0  0.0\n",
       "\n",
       "[:, :, 100] =\n",
       " 0.0  0.0  0.0  0.0  0.0  0.0  0.0  0.0  …  0.0  0.0  0.0  0.0  0.0  0.0  0.0\n",
       " 0.0  0.0  0.0  0.0  0.0  0.0  0.0  0.0     0.0  0.0  0.0  0.0  0.0  0.0  0.0\n",
       " 0.0  0.0  0.0  0.0  0.0  0.0  0.0  0.0     0.0  0.0  0.0  0.0  0.0  0.0  0.0\n",
       " 0.0  0.0  0.0  0.0  0.0  0.0  0.0  0.0     0.0  0.0  0.0  0.0  0.0  0.0  0.0\n",
       " 0.0  0.0  0.0  0.0  0.0  0.0  0.0  0.0     0.0  0.0  0.0  0.0  0.0  0.0  0.0\n",
       " 0.0  0.0  0.0  0.0  0.0  0.0  0.0  0.0  …  0.0  0.0  0.0  0.0  0.0  0.0  0.0\n",
       " 0.0  0.0  0.0  0.0  0.0  0.0  0.0  0.0     0.0  0.0  0.0  0.0  0.0  0.0  0.0\n",
       " 0.0  0.0  0.0  0.0  0.0  0.0  0.0  0.0     0.0  0.0  0.0  0.0  0.0  0.0  0.0\n",
       " 0.0  0.0  0.0  0.0  0.0  0.0  0.0  0.0     0.0  0.0  0.0  0.0  0.0  0.0  0.0\n",
       " 0.0  0.0  0.0  0.0  0.0  0.0  0.0  0.0     0.0  0.0  0.0  0.0  0.0  0.0  0.0\n",
       " 0.0  0.0  0.0  0.0  0.0  0.0  0.0  0.0  …  0.0  0.0  0.0  0.0  0.0  0.0  0.0\n",
       " 0.0  0.0  0.0  0.0  0.0  0.0  0.0  0.0     0.0  0.0  0.0  0.0  0.0  0.0  0.0\n",
       " 0.0  0.0  0.0  0.0  0.0  0.0  0.0  0.0     0.0  0.0  0.0  0.0  0.0  0.0  0.0\n",
       " ⋮                        ⋮              ⋱            ⋮                   \n",
       " 0.0  0.0  0.0  0.0  0.0  0.0  0.0  0.0     0.0  0.0  0.0  0.0  0.0  0.0  0.0\n",
       " 0.0  0.0  0.0  0.0  0.0  0.0  0.0  0.0     0.0  0.0  0.0  0.0  0.0  0.0  0.0\n",
       " 0.0  0.0  0.0  0.0  0.0  0.0  0.0  0.0  …  0.0  0.0  0.0  0.0  0.0  0.0  0.0\n",
       " 0.0  0.0  0.0  0.0  0.0  0.0  0.0  0.0     0.0  0.0  0.0  0.0  0.0  0.0  0.0\n",
       " 0.0  0.0  0.0  0.0  0.0  0.0  0.0  0.0     0.0  0.0  0.0  0.0  0.0  0.0  0.0\n",
       " 0.0  0.0  0.0  0.0  0.0  0.0  0.0  0.0     0.0  0.0  0.0  0.0  0.0  0.0  0.0\n",
       " 0.0  0.0  0.0  0.0  0.0  0.0  0.0  0.0     0.0  0.0  0.0  0.0  0.0  0.0  0.0\n",
       " 0.0  0.0  0.0  0.0  0.0  0.0  0.0  0.0  …  0.0  0.0  0.0  0.0  0.0  0.0  0.0\n",
       " 0.0  0.0  0.0  0.0  0.0  0.0  0.0  0.0     0.0  0.0  0.0  0.0  0.0  0.0  0.0\n",
       " 0.0  0.0  0.0  0.0  0.0  0.0  0.0  0.0     0.0  0.0  0.0  0.0  0.0  0.0  0.0\n",
       " 0.0  0.0  0.0  0.0  0.0  0.0  0.0  0.0     0.0  0.0  0.0  0.0  0.0  0.0  0.0\n",
       " 0.0  0.0  0.0  0.0  0.0  0.0  0.0  0.0     0.0  0.0  0.0  0.0  0.0  0.0  0.0"
      ]
     },
     "execution_count": 56,
     "metadata": {},
     "output_type": "execute_result"
    }
   ],
   "source": [
    "zij = value.(z)"
   ]
  }
 ],
 "metadata": {
  "kernelspec": {
   "display_name": "Julia 1.8.0",
   "language": "julia",
   "name": "julia-1.8"
  },
  "language_info": {
   "file_extension": ".jl",
   "mimetype": "application/julia",
   "name": "julia",
   "version": "1.8.0"
  },
  "orig_nbformat": 4
 },
 "nbformat": 4,
 "nbformat_minor": 2
}

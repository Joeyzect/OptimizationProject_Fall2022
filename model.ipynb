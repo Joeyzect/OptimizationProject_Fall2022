{
 "cells": [
  {
   "cell_type": "code",
   "execution_count": 1,
   "metadata": {},
   "outputs": [],
   "source": [
    "using DataFrames, CSV\n",
    "using JuMP, Gurobi\n",
    "using LinearAlgebra, Random, Printf, CategoricalArrays\n",
    "using Plots\n",
    "using Distributions"
   ]
  },
  {
   "cell_type": "code",
   "execution_count": 2,
   "metadata": {},
   "outputs": [
    {
     "name": "stdout",
     "output_type": "stream",
     "text": [
      "Set parameter Username\n",
      "Academic license - for non-commercial use only - expires 2023-09-11\n"
     ]
    }
   ],
   "source": [
    "const GRB_ENV = Gurobi.Env();"
   ]
  },
  {
   "cell_type": "code",
   "execution_count": 256,
   "metadata": {},
   "outputs": [],
   "source": [
    "df = CSV.read(\"imputed_table.csv\", DataFrame)[:, 2:end];\n",
    "\n",
    "people = CSV.read(\"people.csv\", DataFrame);"
   ]
  },
  {
   "cell_type": "code",
   "execution_count": 202,
   "metadata": {},
   "outputs": [],
   "source": [
    "RHO = 10;"
   ]
  },
  {
   "cell_type": "code",
   "execution_count": 58,
   "metadata": {},
   "outputs": [],
   "source": [
    "# preferences_0 = CSV.read(\"preferences_0.csv\", DataFrame);\n",
    "# preferences_1 = CSV.read(\"preferences_1.csv\", DataFrame);\n",
    "\n",
    "# preferences_0 = Matrix(preferences_0)[:,2:end];\n",
    "# preferences_1 = Matrix(preferences_1)[:,2:end];"
   ]
  },
  {
   "cell_type": "code",
   "execution_count": 266,
   "metadata": {},
   "outputs": [],
   "source": [
    "preference_df = Matrix(df[193:232, 193:232]);\n",
    "\n",
    "people_df = people[193:232, :];"
   ]
  },
  {
   "cell_type": "code",
   "execution_count": 270,
   "metadata": {},
   "outputs": [
    {
     "data": {
      "text/html": [
       "<div class=\"data-frame\"><p>20 rows × 20 columns (omitted printing of 13 columns)</p><table class=\"data-frame\"><thead><tr><th></th><th>1.0</th><th>2.0</th><th>3.0</th><th>4.0</th><th>5.0</th><th>6.0</th><th>7.0</th></tr><tr><th></th><th title=\"Float64\">Float64</th><th title=\"Float64\">Float64</th><th title=\"Float64\">Float64</th><th title=\"Float64\">Float64</th><th title=\"Float64\">Float64</th><th title=\"Float64\">Float64</th><th title=\"Float64\">Float64</th></tr></thead><tbody><tr><th>1</th><td>-0.5</td><td>-0.132105</td><td>0.640423</td><td>0.1049</td><td>-0.535669</td><td>0.361595</td><td>1.304</td></tr><tr><th>2</th><td>-0.504199</td><td>-0.5</td><td>0.414866</td><td>-1.24978</td><td>0.175539</td><td>-0.320363</td><td>-1.90409</td></tr><tr><th>3</th><td>0.937358</td><td>0.21877</td><td>-0.5</td><td>1.39214</td><td>0.31772</td><td>0.545022</td><td>0.99023</td></tr><tr><th>4</th><td>0.135331</td><td>0.261963</td><td>0.7203</td><td>-0.5</td><td>-1.29184</td><td>-1.6005</td><td>0.553141</td></tr><tr><th>5</th><td>-1.23944</td><td>0.00437185</td><td>0.335725</td><td>1.19403</td><td>-0.5</td><td>-0.396796</td><td>-0.877103</td></tr><tr><th>6</th><td>-0.613547</td><td>1.13328</td><td>-0.784445</td><td>0.119175</td><td>-0.284907</td><td>-0.5</td><td>-0.559545</td></tr><tr><th>7</th><td>0.450715</td><td>-0.226007</td><td>0.66004</td><td>-1.7661</td><td>-0.100062</td><td>0.861031</td><td>-0.5</td></tr><tr><th>8</th><td>-0.489866</td><td>0.541139</td><td>-0.336873</td><td>0.770053</td><td>0.983356</td><td>1.98303</td><td>-0.412383</td></tr><tr><th>9</th><td>-0.234397</td><td>1.84195</td><td>0.398938</td><td>-1.88541</td><td>-1.23653</td><td>1.51647</td><td>-0.0490567</td></tr><tr><th>10</th><td>-1.2167</td><td>-0.163417</td><td>-0.54922</td><td>2.28551</td><td>0.260751</td><td>2.20539</td><td>-1.40936</td></tr><tr><th>11</th><td>0.858116</td><td>0.858116</td><td>-2.00227</td><td>-0.572078</td><td>-0.572078</td><td>0.858116</td><td>0.858116</td></tr><tr><th>12</th><td>0.404164</td><td>0.404164</td><td>-0.0212718</td><td>-0.446707</td><td>-0.0212718</td><td>-0.0212718</td><td>0.616882</td></tr><tr><th>13</th><td>0.0</td><td>0.0</td><td>0.0</td><td>0.0</td><td>0.0</td><td>0.0</td><td>0.0</td></tr><tr><th>14</th><td>-0.707107</td><td>2.12132</td><td>-0.707107</td><td>0.707107</td><td>-0.707107</td><td>-0.707107</td><td>0.707107</td></tr><tr><th>15</th><td>0.201979</td><td>1.35615</td><td>-0.952187</td><td>0.779062</td><td>-1.81781</td><td>0.779062</td><td>0.201979</td></tr><tr><th>16</th><td>1.1068</td><td>1.1068</td><td>-0.474342</td><td>-0.474342</td><td>-1.26491</td><td>-0.474342</td><td>1.1068</td></tr><tr><th>17</th><td>-1.01666</td><td>-0.0484123</td><td>-1.01666</td><td>1.1619</td><td>-0.532535</td><td>-0.532535</td><td>0.435711</td></tr><tr><th>18</th><td>0.191446</td><td>0.829599</td><td>-2.36117</td><td>0.191446</td><td>-1.08486</td><td>0.191446</td><td>0.829599</td></tr><tr><th>19</th><td>-0.766131</td><td>0.766131</td><td>-0.255377</td><td>0.766131</td><td>-0.255377</td><td>-1.27688</td><td>1.78764</td></tr><tr><th>20</th><td>-0.203186</td><td>-0.203186</td><td>-1.01593</td><td>0.609557</td><td>-1.82867</td><td>-0.203186</td><td>0.609557</td></tr></tbody></table></div>"
      ],
      "text/latex": [
       "\\begin{tabular}{r|cccccccc}\n",
       "\t& 1.0 & 2.0 & 3.0 & 4.0 & 5.0 & 6.0 & 7.0 & \\\\\n",
       "\t\\hline\n",
       "\t& Float64 & Float64 & Float64 & Float64 & Float64 & Float64 & Float64 & \\\\\n",
       "\t\\hline\n",
       "\t1 & -0.5 & -0.132105 & 0.640423 & 0.1049 & -0.535669 & 0.361595 & 1.304 & $\\dots$ \\\\\n",
       "\t2 & -0.504199 & -0.5 & 0.414866 & -1.24978 & 0.175539 & -0.320363 & -1.90409 & $\\dots$ \\\\\n",
       "\t3 & 0.937358 & 0.21877 & -0.5 & 1.39214 & 0.31772 & 0.545022 & 0.99023 & $\\dots$ \\\\\n",
       "\t4 & 0.135331 & 0.261963 & 0.7203 & -0.5 & -1.29184 & -1.6005 & 0.553141 & $\\dots$ \\\\\n",
       "\t5 & -1.23944 & 0.00437185 & 0.335725 & 1.19403 & -0.5 & -0.396796 & -0.877103 & $\\dots$ \\\\\n",
       "\t6 & -0.613547 & 1.13328 & -0.784445 & 0.119175 & -0.284907 & -0.5 & -0.559545 & $\\dots$ \\\\\n",
       "\t7 & 0.450715 & -0.226007 & 0.66004 & -1.7661 & -0.100062 & 0.861031 & -0.5 & $\\dots$ \\\\\n",
       "\t8 & -0.489866 & 0.541139 & -0.336873 & 0.770053 & 0.983356 & 1.98303 & -0.412383 & $\\dots$ \\\\\n",
       "\t9 & -0.234397 & 1.84195 & 0.398938 & -1.88541 & -1.23653 & 1.51647 & -0.0490567 & $\\dots$ \\\\\n",
       "\t10 & -1.2167 & -0.163417 & -0.54922 & 2.28551 & 0.260751 & 2.20539 & -1.40936 & $\\dots$ \\\\\n",
       "\t11 & 0.858116 & 0.858116 & -2.00227 & -0.572078 & -0.572078 & 0.858116 & 0.858116 & $\\dots$ \\\\\n",
       "\t12 & 0.404164 & 0.404164 & -0.0212718 & -0.446707 & -0.0212718 & -0.0212718 & 0.616882 & $\\dots$ \\\\\n",
       "\t13 & 0.0 & 0.0 & 0.0 & 0.0 & 0.0 & 0.0 & 0.0 & $\\dots$ \\\\\n",
       "\t14 & -0.707107 & 2.12132 & -0.707107 & 0.707107 & -0.707107 & -0.707107 & 0.707107 & $\\dots$ \\\\\n",
       "\t15 & 0.201979 & 1.35615 & -0.952187 & 0.779062 & -1.81781 & 0.779062 & 0.201979 & $\\dots$ \\\\\n",
       "\t16 & 1.1068 & 1.1068 & -0.474342 & -0.474342 & -1.26491 & -0.474342 & 1.1068 & $\\dots$ \\\\\n",
       "\t17 & -1.01666 & -0.0484123 & -1.01666 & 1.1619 & -0.532535 & -0.532535 & 0.435711 & $\\dots$ \\\\\n",
       "\t18 & 0.191446 & 0.829599 & -2.36117 & 0.191446 & -1.08486 & 0.191446 & 0.829599 & $\\dots$ \\\\\n",
       "\t19 & -0.766131 & 0.766131 & -0.255377 & 0.766131 & -0.255377 & -1.27688 & 1.78764 & $\\dots$ \\\\\n",
       "\t20 & -0.203186 & -0.203186 & -1.01593 & 0.609557 & -1.82867 & -0.203186 & 0.609557 & $\\dots$ \\\\\n",
       "\\end{tabular}\n"
      ],
      "text/plain": [
       "\u001b[1m20×20 DataFrame\u001b[0m\n",
       "\u001b[1m Row \u001b[0m│\u001b[1m 1.0       \u001b[0m\u001b[1m 2.0         \u001b[0m\u001b[1m 3.0        \u001b[0m\u001b[1m 4.0       \u001b[0m\u001b[1m 5.0        \u001b[0m\u001b[1m 6.0        \u001b[0m\u001b[1m \u001b[0m ⋯\n",
       "\u001b[1m     \u001b[0m│\u001b[90m Float64   \u001b[0m\u001b[90m Float64     \u001b[0m\u001b[90m Float64    \u001b[0m\u001b[90m Float64   \u001b[0m\u001b[90m Float64    \u001b[0m\u001b[90m Float64    \u001b[0m\u001b[90m \u001b[0m ⋯\n",
       "─────┼──────────────────────────────────────────────────────────────────────────\n",
       "   1 │ -0.5       -0.132105     0.640423    0.1049    -0.535669    0.361595    ⋯\n",
       "   2 │ -0.504199  -0.5          0.414866   -1.24978    0.175539   -0.320363\n",
       "   3 │  0.937358   0.21877     -0.5         1.39214    0.31772     0.545022\n",
       "   4 │  0.135331   0.261963     0.7203     -0.5       -1.29184    -1.6005\n",
       "   5 │ -1.23944    0.00437185   0.335725    1.19403   -0.5        -0.396796    ⋯\n",
       "   6 │ -0.613547   1.13328     -0.784445    0.119175  -0.284907   -0.5\n",
       "   7 │  0.450715  -0.226007     0.66004    -1.7661    -0.100062    0.861031\n",
       "   8 │ -0.489866   0.541139    -0.336873    0.770053   0.983356    1.98303\n",
       "   9 │ -0.234397   1.84195      0.398938   -1.88541   -1.23653     1.51647     ⋯\n",
       "  10 │ -1.2167    -0.163417    -0.54922     2.28551    0.260751    2.20539\n",
       "  11 │  0.858116   0.858116    -2.00227    -0.572078  -0.572078    0.858116\n",
       "  12 │  0.404164   0.404164    -0.0212718  -0.446707  -0.0212718  -0.0212718\n",
       "  13 │  0.0        0.0          0.0         0.0        0.0         0.0         ⋯\n",
       "  14 │ -0.707107   2.12132     -0.707107    0.707107  -0.707107   -0.707107\n",
       "  15 │  0.201979   1.35615     -0.952187    0.779062  -1.81781     0.779062\n",
       "  16 │  1.1068     1.1068      -0.474342   -0.474342  -1.26491    -0.474342\n",
       "  17 │ -1.01666   -0.0484123   -1.01666     1.1619    -0.532535   -0.532535    ⋯\n",
       "  18 │  0.191446   0.829599    -2.36117     0.191446  -1.08486     0.191446\n",
       "  19 │ -0.766131   0.766131    -0.255377    0.766131  -0.255377   -1.27688\n",
       "  20 │ -0.203186  -0.203186    -1.01593     0.609557  -1.82867    -0.203186\n",
       "\u001b[36m                                                              14 columns omitted\u001b[0m"
      ]
     },
     "execution_count": 270,
     "metadata": {},
     "output_type": "execute_result"
    }
   ],
   "source": [
    "df[1:20, 1:20]"
   ]
  },
  {
   "cell_type": "code",
   "execution_count": 205,
   "metadata": {},
   "outputs": [],
   "source": [
    "preference_df[diagind(preference_df)] .= RHO;"
   ]
  },
  {
   "cell_type": "code",
   "execution_count": 187,
   "metadata": {},
   "outputs": [
    {
     "data": {
      "text/plain": [
       "1:10"
      ]
     },
     "execution_count": 187,
     "metadata": {},
     "output_type": "execute_result"
    }
   ],
   "source": [
    "1:size([:agnostic, :atheist, :buddhist, :catholic, :hindu, :jewish, :mormon, :muslim, :protestant, :unaffiliated], 1)"
   ]
  },
  {
   "cell_type": "code",
   "execution_count": 193,
   "metadata": {},
   "outputs": [
    {
     "data": {
      "text/plain": [
       "(40, 10)"
      ]
     },
     "execution_count": 193,
     "metadata": {},
     "output_type": "execute_result"
    }
   ],
   "source": [
    "size(religion_df)[0]"
   ]
  },
  {
   "cell_type": "code",
   "execution_count": 273,
   "metadata": {},
   "outputs": [
    {
     "name": "stdout",
     "output_type": "stream",
     "text": [
      "Gurobi Optimizer version 9.5.2 build v9.5.2rc0 (win64)\n",
      "Thread count: 4 physical cores, 8 logical processors, using up to 8 threads\n",
      "Optimize a model with 5000 rows, 4800 columns and 9680 nonzeros\n",
      "Model fingerprint: 0xae6ef205\n",
      "Model has 820 quadratic constraints\n",
      "Variable types: 0 continuous, 4800 integer (4800 binary)\n",
      "Coefficient statistics:\n",
      "  Matrix range     [1e+00, 1e+00]\n",
      "  QMatrix range    [1e+00, 1e+00]\n",
      "  Objective range  [6e-04, 5e+00]\n",
      "  Bounds range     [0e+00, 0e+00]\n",
      "  RHS range        [1e+00, 1e+00]\n",
      "Found heuristic solution: objective 20.0000000\n",
      "Presolve removed 4961 rows and 4452 columns\n",
      "Presolve time: 0.01s\n",
      "Presolved: 315 rows, 486 columns, 972 nonzeros\n",
      "Variable types: 0 continuous, 486 integer (486 binary)\n",
      "\n",
      "Root relaxation: objective -3.224182e+01, 33 iterations, 0.00 seconds (0.00 work units)\n",
      "\n",
      "    Nodes    |    Current Node    |     Objective Bounds      |     Work\n",
      " Expl Unexpl |  Obj  Depth IntInf | Incumbent    BestBd   Gap | It/Node Time\n",
      "\n",
      "*    0     0               0     -32.2418187  -32.24182  0.00%     -    0s\n",
      "\n",
      "Explored 1 nodes (33 simplex iterations) in 0.02 seconds (0.01 work units)\n",
      "Thread count was 8 (of 8 available processors)\n",
      "\n",
      "Solution count 2: -32.2418 20 \n",
      "No other solutions better than -32.2418\n",
      "\n",
      "Optimal solution found (tolerance 1.00e-04)\n",
      "Best objective -3.224181870519e+01, best bound -3.224181870519e+01, gap 0.0000%\n",
      "\n",
      "User-callback calls 291, time in user-callback 0.00 sec\n"
     ]
    }
   ],
   "source": [
    "\n",
    "RHO = 0.5\n",
    "m1 = Model(() -> Gurobi.Optimizer(GRB_ENV))\n",
    "\n",
    "# Create variables\n",
    "@variable(m1, z[1:size(preference_df, 1), 1:size(preference_df, 2)], Bin)\n",
    "@variable(m1, t[1:size(preference_df, 1), 1:size(preference_df, 2)], Bin)\n",
    "@variable(m1, g[1:size(preference_df, 1), 1:size(preference_df, 2)], Bin)\n",
    "\n",
    "# Create objective\n",
    "@objective(m1, Min, -1 * sum(z[i,j] * (preference_df[i,j] + preference_df[j,i]) for i in 1:size(preference_df)[1], j in i:size(preference_df)[2]) + (size(preference_df)[1] - sum(z)) * RHO)\n",
    "\n",
    "# Create constraints\n",
    "\n",
    "# Each person can only be matched with one person\n",
    "@constraint(m1, [i=1:size(preference_df)[1]], sum(z[i,j] for j in 1:size(preference_df)[2]) <= 1)\n",
    "@constraint(m1, [j=1:size(preference_df)[2]], sum(z[i,j] for i in 1:size(preference_df)[1]) <= 1)\n",
    "\n",
    "# Make sure that if i is matched with j, then j is matched with i\n",
    "# Different gender matching\n",
    "# People with strong religious preferences are matched with someone sharing the same religious preference\n",
    "religion_df = Matrix(people_df[:, [:agnostic, :atheist, :buddhist, :catholic, :hindu, :jewish, :mormon, :muslim, :protestant, :unaffiliated]])\n",
    "\n",
    "for i in 1:size(z, 1)\n",
    "    for j in i:size(z, 2)\n",
    "        @constraint(m1, z[i,j] == z[j,i])\n",
    "        @constraint(m1, z[i,j] <= g[i,j])\n",
    "        @constraint(m1, g[i,j] >= people_df[i, :gender] - people_df[j, :gender])\n",
    "        @constraint(m1, -g[i,j] >= people_df[i, :gender] - people_df[j, :gender])\n",
    "        # @constraint(m1, s[i,j] <= 1-(j-i))\n",
    "\n",
    "        @constraint(m1, (1 - sum(religion_df[i, k] * religion_df[j, k] for k in 1:size(religion_df)[2])) * t[i,j] * z[i,j] <= 0)\n",
    "        @constraint(m1, t[i,j] >= people_df[i, :imprelig])\n",
    "        @constraint(m1, t[i,j] >= people_df[j, :imprelig])\n",
    "    end\n",
    "end\n",
    "\n",
    "optimize!(m1)"
   ]
  },
  {
   "cell_type": "code",
   "execution_count": 246,
   "metadata": {},
   "outputs": [
    {
     "data": {
      "text/plain": [
       "1×40 Matrix{Float64}:\n",
       " 0.0  1.0  1.0  1.0  1.0  1.0  1.0  1.0  …  1.0  1.0  1.0  1.0  1.0  0.0  1.0"
      ]
     },
     "execution_count": 246,
     "metadata": {},
     "output_type": "execute_result"
    }
   ],
   "source": [
    "zij = value.(z);\n",
    "\n",
    "sum(zij, dims=1)"
   ]
  },
  {
   "cell_type": "code",
   "execution_count": 247,
   "metadata": {},
   "outputs": [
    {
     "data": {
      "text/plain": [
       "\"z.csv\""
      ]
     },
     "execution_count": 247,
     "metadata": {},
     "output_type": "execute_result"
    }
   ],
   "source": [
    "CSV.write(\"z.csv\", Tables.table(zij))"
   ]
  },
  {
   "cell_type": "markdown",
   "metadata": {},
   "source": [
    "### Compared to the Heuristic Method, we get an objective value of 32.24 vs. 14.15, a 2.3x improvement!\n",
    "\n",
    "Now let us try it out on the larger instance:\n",
    "\n"
   ]
  },
  {
   "cell_type": "code",
   "execution_count": 289,
   "metadata": {},
   "outputs": [],
   "source": [
    "preference_df = Matrix(df[1:22, 1:22]);\n",
    "\n",
    "people_df = people;"
   ]
  },
  {
   "cell_type": "code",
   "execution_count": 290,
   "metadata": {},
   "outputs": [
    {
     "name": "stdout",
     "output_type": "stream",
     "text": [
      "Gurobi Optimizer version 9.5.2 build v9.5.2rc0 (win64)\n",
      "Thread count: 4 physical cores, 8 logical processors, using up to 8 threads\n",
      "Optimize a model with 1562 rows, 1452 columns and 2948 nonzeros\n",
      "Model fingerprint: 0x561b8502\n",
      "Model has 253 quadratic constraints\n",
      "Variable types: 0 continuous, 1452 integer (1452 binary)\n",
      "Coefficient statistics:\n",
      "  Matrix range     [1e+00, 1e+00]\n",
      "  QMatrix range    [1e+00, 1e+00]\n",
      "  Objective range  [4e-03, 4e+00]\n",
      "  Bounds range     [0e+00, 0e+00]\n",
      "  RHS range        [1e+00, 1e+00]\n",
      "Presolve removed 1013 rows and 737 columns\n",
      "Presolve time: 0.00s\n",
      "\n",
      "Explored 0 nodes (0 simplex iterations) in 0.00 seconds (0.00 work units)\n",
      "Thread count was 1 (of 8 available processors)\n",
      "\n",
      "Solution count 0\n",
      "\n",
      "Model is infeasible or unbounded\n",
      "Best objective -, best bound -, gap -\n",
      "\n",
      "User-callback calls 32, time in user-callback 0.00 sec\n"
     ]
    }
   ],
   "source": [
    "RHO = 0.5\n",
    "m1 = Model(() -> Gurobi.Optimizer(GRB_ENV))\n",
    "\n",
    "# Create variables\n",
    "@variable(m1, z[1:size(preference_df, 1), 1:size(preference_df, 2)], Bin)\n",
    "@variable(m1, t[1:size(preference_df, 1), 1:size(preference_df, 2)], Bin)\n",
    "@variable(m1, g[1:size(preference_df, 1), 1:size(preference_df, 2)], Bin)\n",
    "\n",
    "# Create objective\n",
    "@objective(m1, Min, -1 * sum(z[i,j] * (preference_df[i,j] + preference_df[j,i]) for i in 1:size(preference_df)[1], j in i:size(preference_df)[2]) + (size(preference_df)[1] - sum(z)) * RHO)\n",
    "\n",
    "# Create constraints\n",
    "\n",
    "# Each person can only be matched with one person\n",
    "@constraint(m1, [i=1:size(preference_df)[1]], sum(z[i,j] for j in 1:size(preference_df)[2]) <= 1)\n",
    "@constraint(m1, [j=1:size(preference_df)[2]], sum(z[i,j] for i in 1:size(preference_df)[1]) <= 1)\n",
    "\n",
    "# Make sure that if i is matched with j, then j is matched with i\n",
    "# Different gender matching\n",
    "# People with strong religious preferences are matched with someone sharing the same religious preference\n",
    "religion_df = Matrix(people_df[:, [:agnostic, :atheist, :buddhist, :catholic, :hindu, :jewish, :mormon, :muslim, :protestant, :unaffiliated]])\n",
    "\n",
    "for i in 1:size(z, 1)\n",
    "    for j in i:size(z, 2)\n",
    "        @constraint(m1, z[i,j] == z[j,i])\n",
    "        @constraint(m1, z[i,j] <= g[i,j])\n",
    "        @constraint(m1, g[i,j] >= people_df[i, :gender] - people_df[j, :gender])\n",
    "        @constraint(m1, -g[i,j] >= people_df[i, :gender] - people_df[j, :gender])\n",
    "        # @constraint(m1, s[i,j] <= 1-(j-i))\n",
    "\n",
    "        @constraint(m1, (1 - sum(religion_df[i, k] * religion_df[j, k] for k in 1:size(religion_df)[2])) * t[i,j] * z[i,j] <= 0)\n",
    "        @constraint(m1, t[i,j] >= people_df[i, :imprelig])\n",
    "        @constraint(m1, t[i,j] >= people_df[j, :imprelig])\n",
    "    end\n",
    "end\n",
    "\n",
    "optimize!(m1)"
   ]
  },
  {
   "cell_type": "code",
   "execution_count": null,
   "metadata": {},
   "outputs": [],
   "source": []
  },
  {
   "cell_type": "code",
   "execution_count": null,
   "metadata": {},
   "outputs": [],
   "source": []
  },
  {
   "cell_type": "code",
   "execution_count": 77,
   "metadata": {},
   "outputs": [
    {
     "name": "stdout",
     "output_type": "stream",
     "text": [
      "Gurobi Optimizer version 9.5.2 build v9.5.2rc0 (win64)\n",
      "Thread count: 4 physical cores, 8 logical processors, using up to 8 threads\n",
      "Optimize a model with 80 rows, 440 columns and 1640 nonzeros\n",
      "Model fingerprint: 0x00792b20\n",
      "Variable types: 0 continuous, 440 integer (440 binary)\n",
      "Coefficient statistics:\n",
      "  Matrix range     [1e+00, 1e+00]\n",
      "  Objective range  [2e-03, 4e+00]\n",
      "  Bounds range     [0e+00, 0e+00]\n",
      "  RHS range        [1e+00, 1e+00]\n",
      "Found heuristic solution: objective -20.4384452\n",
      "Presolve removed 0 rows and 92 columns\n",
      "Presolve time: 0.00s\n",
      "Presolved: 80 rows, 348 columns, 1272 nonzeros\n",
      "Variable types: 0 continuous, 348 integer (348 binary)\n",
      "\n",
      "Root relaxation: objective -4.347703e+01, 28 iterations, 0.00 seconds (0.00 work units)\n",
      "\n",
      "    Nodes    |    Current Node    |     Objective Bounds      |     Work\n",
      " Expl Unexpl |  Obj  Depth IntInf | Incumbent    BestBd   Gap | It/Node Time\n",
      "\n",
      "*    0     0               0     -43.4770278  -43.47703  0.00%     -    0s\n",
      "\n",
      "Explored 1 nodes (28 simplex iterations) in 0.01 seconds (0.00 work units)\n",
      "Thread count was 8 (of 8 available processors)\n",
      "\n",
      "Solution count 2: -43.477 -20.4384 \n",
      "No other solutions better than -43.477\n",
      "\n",
      "Optimal solution found (tolerance 1.00e-04)\n",
      "Best objective -4.347702775607e+01, best bound -4.347702775607e+01, gap 0.0000%\n",
      "\n",
      "User-callback calls 213, time in user-callback 0.00 sec\n"
     ]
    }
   ],
   "source": [
    "rho = 0.5;\n",
    "# Create a new model\n",
    "\n",
    "m = Model(() -> Gurobi.Optimizer(GRB_ENV))\n",
    "\n",
    "# Create variables\n",
    "\n",
    "#zij = 1 if i and j are matched, 0 otherwise\n",
    "@variable(m, z[1:size(preferences_0,1), 1:size(preferences_1,1)], Bin)\n",
    "@variable(m, ui[1:size(preferences_0,1)], Bin)\n",
    "@variable(m, uj[1:size(preferences_1,1)], Bin)\n",
    "\n",
    "# Counting variable for unmatched students\n",
    "\n",
    "#t represents max of mi and mj\n",
    "#@variable(m, t[1:size(preferences_0,1), 1:size(preferences_1,1)], Bin)\n",
    "\n",
    "# Create objective\n",
    "\n",
    "@objective(m, Min, -1*sum(z[i,:]'*(preferences_0[i,:] + preferences_1'[i,:]) for i in 1:size(preferences_0,1)) + rho*(sum(ui) + sum(uj)))\n",
    "\n",
    "# Create constraints\n",
    "\n",
    "# Each person can only be matched to one person \n",
    "@constraint(m, [i in 1:size(preferences_0,1)], sum(z[i,j] for j in 1:size(preferences_1,1)) <= 1)\n",
    "@constraint(m, [j in 1:size(preferences_1,1)], sum(z[i,j] for i in 1:size(preferences_0,1)) <= 1)\n",
    "\n",
    "# If unmatched define ui and uj\n",
    "@constraint(m, [i in 1:size(preferences_0,1)], ui[i] >= 1 - sum(z[i,j] for j in 1:size(preferences_1,1)))\n",
    "@constraint(m, [j in 1:size(preferences_1,1)], uj[j] >= 1 - sum(z[i,j] for i in 1:size(preferences_0,1)))\n",
    "\n",
    "optimize!(m)"
   ]
  },
  {
   "cell_type": "code",
   "execution_count": 79,
   "metadata": {},
   "outputs": [
    {
     "data": {
      "text/plain": [
       "20×20 Matrix{Float64}:\n",
       "  0.0  -0.0   0.0  -0.0   0.0   0.0  …   0.0  -0.0   0.0  -0.0   0.0  -0.0\n",
       " -0.0   0.0  -0.0  -0.0  -0.0  -0.0     -0.0  -0.0   0.0   1.0   0.0   0.0\n",
       " -0.0  -0.0  -0.0   0.0   0.0   1.0     -0.0   0.0  -0.0  -0.0   0.0  -0.0\n",
       " -0.0  -0.0   0.0  -0.0   0.0  -0.0     -0.0   0.0  -0.0   0.0   1.0   0.0\n",
       "  0.0  -0.0  -0.0   0.0   0.0   0.0      1.0  -0.0  -0.0   0.0   0.0  -0.0\n",
       " -0.0  -0.0   0.0  -0.0  -0.0  -0.0  …   0.0   0.0   0.0  -0.0   0.0  -0.0\n",
       " -0.0  -0.0   0.0  -0.0  -0.0  -0.0      0.0   0.0   0.0  -0.0  -0.0  -0.0\n",
       " -0.0  -0.0   0.0  -0.0   0.0  -0.0     -0.0  -0.0   1.0  -0.0  -0.0  -0.0\n",
       "  1.0  -0.0  -0.0  -0.0  -0.0  -0.0      0.0  -0.0   0.0  -0.0  -0.0  -0.0\n",
       " -0.0  -0.0   0.0  -0.0  -0.0  -0.0     -0.0  -0.0  -0.0  -0.0  -0.0   1.0\n",
       " -0.0  -0.0   1.0  -0.0  -0.0  -0.0  …   0.0  -0.0   0.0  -0.0  -0.0  -0.0\n",
       " -0.0  -0.0   0.0  -0.0  -0.0  -0.0     -0.0  -0.0  -0.0   0.0  -0.0   0.0\n",
       "  0.0  -0.0  -0.0   0.0  -0.0   0.0     -0.0  -0.0  -0.0  -0.0   0.0  -0.0\n",
       " -0.0  -0.0  -0.0  -0.0   1.0   0.0     -0.0  -0.0  -0.0   0.0  -0.0  -0.0\n",
       "  0.0   1.0  -0.0  -0.0  -0.0  -0.0     -0.0   0.0  -0.0  -0.0  -0.0  -0.0\n",
       " -0.0  -0.0  -0.0   0.0   0.0   0.0  …   0.0   0.0   0.0  -0.0  -0.0  -0.0\n",
       " -0.0  -0.0  -0.0   0.0   0.0  -0.0     -0.0   1.0  -0.0   0.0  -0.0  -0.0\n",
       " -0.0  -0.0  -0.0   0.0   0.0  -0.0     -0.0  -0.0   0.0  -0.0  -0.0   0.0\n",
       " -0.0  -0.0  -0.0   1.0   0.0  -0.0     -0.0  -0.0   0.0  -0.0  -0.0  -0.0\n",
       "  0.0  -0.0  -0.0  -0.0   0.0  -0.0     -0.0  -0.0  -0.0  -0.0   0.0  -0.0"
      ]
     },
     "execution_count": 79,
     "metadata": {},
     "output_type": "execute_result"
    }
   ],
   "source": [
    "# Get value of zij\n",
    "\n",
    "zij = value.(z)"
   ]
  },
  {
   "cell_type": "code",
   "execution_count": 89,
   "metadata": {},
   "outputs": [
    {
     "data": {
      "text/plain": [
       "20.0"
      ]
     },
     "execution_count": 89,
     "metadata": {},
     "output_type": "execute_result"
    }
   ],
   "source": [
    "sum((preferences_0 + preferences_1') .* zij)"
   ]
  }
 ],
 "metadata": {
  "kernelspec": {
   "display_name": "Julia 1.8.0",
   "language": "julia",
   "name": "julia-1.8"
  },
  "language_info": {
   "file_extension": ".jl",
   "mimetype": "application/julia",
   "name": "julia",
   "version": "1.8.0"
  },
  "orig_nbformat": 4
 },
 "nbformat": 4,
 "nbformat_minor": 2
}
